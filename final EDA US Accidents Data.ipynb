{
 "cells": [
  {
   "cell_type": "code",
   "execution_count": 1,
   "id": "99200caa",
   "metadata": {},
   "outputs": [
    {
     "data": {
      "text/html": [
       "<div>\n",
       "<style scoped>\n",
       "    .dataframe tbody tr th:only-of-type {\n",
       "        vertical-align: middle;\n",
       "    }\n",
       "\n",
       "    .dataframe tbody tr th {\n",
       "        vertical-align: top;\n",
       "    }\n",
       "\n",
       "    .dataframe thead th {\n",
       "        text-align: right;\n",
       "    }\n",
       "</style>\n",
       "<table border=\"1\" class=\"dataframe\">\n",
       "  <thead>\n",
       "    <tr style=\"text-align: right;\">\n",
       "      <th></th>\n",
       "      <th>ID</th>\n",
       "      <th>Severity</th>\n",
       "      <th>Start_Time</th>\n",
       "      <th>End_Time</th>\n",
       "      <th>Start_Lat</th>\n",
       "      <th>Start_Lng</th>\n",
       "      <th>End_Lat</th>\n",
       "      <th>End_Lng</th>\n",
       "      <th>Distance(mi)</th>\n",
       "      <th>Description</th>\n",
       "      <th>...</th>\n",
       "      <th>Roundabout</th>\n",
       "      <th>Station</th>\n",
       "      <th>Stop</th>\n",
       "      <th>Traffic_Calming</th>\n",
       "      <th>Traffic_Signal</th>\n",
       "      <th>Turning_Loop</th>\n",
       "      <th>Sunrise_Sunset</th>\n",
       "      <th>Civil_Twilight</th>\n",
       "      <th>Nautical_Twilight</th>\n",
       "      <th>Astronomical_Twilight</th>\n",
       "    </tr>\n",
       "  </thead>\n",
       "  <tbody>\n",
       "    <tr>\n",
       "      <th>0</th>\n",
       "      <td>A-1</td>\n",
       "      <td>3</td>\n",
       "      <td>2016-02-08 00:37:08</td>\n",
       "      <td>2016-02-08 06:37:08</td>\n",
       "      <td>40.108910</td>\n",
       "      <td>-83.092860</td>\n",
       "      <td>40.112060</td>\n",
       "      <td>-83.031870</td>\n",
       "      <td>3.230</td>\n",
       "      <td>Between Sawmill Rd/Exit 20 and OH-315/Olentang...</td>\n",
       "      <td>...</td>\n",
       "      <td>False</td>\n",
       "      <td>False</td>\n",
       "      <td>False</td>\n",
       "      <td>False</td>\n",
       "      <td>False</td>\n",
       "      <td>False</td>\n",
       "      <td>Night</td>\n",
       "      <td>Night</td>\n",
       "      <td>Night</td>\n",
       "      <td>Night</td>\n",
       "    </tr>\n",
       "    <tr>\n",
       "      <th>1</th>\n",
       "      <td>A-2</td>\n",
       "      <td>2</td>\n",
       "      <td>2016-02-08 05:56:20</td>\n",
       "      <td>2016-02-08 11:56:20</td>\n",
       "      <td>39.865420</td>\n",
       "      <td>-84.062800</td>\n",
       "      <td>39.865010</td>\n",
       "      <td>-84.048730</td>\n",
       "      <td>0.747</td>\n",
       "      <td>At OH-4/OH-235/Exit 41 - Accident.</td>\n",
       "      <td>...</td>\n",
       "      <td>False</td>\n",
       "      <td>False</td>\n",
       "      <td>False</td>\n",
       "      <td>False</td>\n",
       "      <td>False</td>\n",
       "      <td>False</td>\n",
       "      <td>Night</td>\n",
       "      <td>Night</td>\n",
       "      <td>Night</td>\n",
       "      <td>Night</td>\n",
       "    </tr>\n",
       "    <tr>\n",
       "      <th>2</th>\n",
       "      <td>A-3</td>\n",
       "      <td>2</td>\n",
       "      <td>2016-02-08 06:15:39</td>\n",
       "      <td>2016-02-08 12:15:39</td>\n",
       "      <td>39.102660</td>\n",
       "      <td>-84.524680</td>\n",
       "      <td>39.102090</td>\n",
       "      <td>-84.523960</td>\n",
       "      <td>0.055</td>\n",
       "      <td>At I-71/US-50/Exit 1 - Accident.</td>\n",
       "      <td>...</td>\n",
       "      <td>False</td>\n",
       "      <td>False</td>\n",
       "      <td>False</td>\n",
       "      <td>False</td>\n",
       "      <td>False</td>\n",
       "      <td>False</td>\n",
       "      <td>Night</td>\n",
       "      <td>Night</td>\n",
       "      <td>Night</td>\n",
       "      <td>Day</td>\n",
       "    </tr>\n",
       "    <tr>\n",
       "      <th>3</th>\n",
       "      <td>A-4</td>\n",
       "      <td>2</td>\n",
       "      <td>2016-02-08 06:51:45</td>\n",
       "      <td>2016-02-08 12:51:45</td>\n",
       "      <td>41.062130</td>\n",
       "      <td>-81.537840</td>\n",
       "      <td>41.062170</td>\n",
       "      <td>-81.535470</td>\n",
       "      <td>0.123</td>\n",
       "      <td>At Dart Ave/Exit 21 - Accident.</td>\n",
       "      <td>...</td>\n",
       "      <td>False</td>\n",
       "      <td>False</td>\n",
       "      <td>False</td>\n",
       "      <td>False</td>\n",
       "      <td>False</td>\n",
       "      <td>False</td>\n",
       "      <td>Night</td>\n",
       "      <td>Night</td>\n",
       "      <td>Day</td>\n",
       "      <td>Day</td>\n",
       "    </tr>\n",
       "    <tr>\n",
       "      <th>4</th>\n",
       "      <td>A-5</td>\n",
       "      <td>3</td>\n",
       "      <td>2016-02-08 07:53:43</td>\n",
       "      <td>2016-02-08 13:53:43</td>\n",
       "      <td>39.172393</td>\n",
       "      <td>-84.492792</td>\n",
       "      <td>39.170476</td>\n",
       "      <td>-84.501798</td>\n",
       "      <td>0.500</td>\n",
       "      <td>At Mitchell Ave/Exit 6 - Accident.</td>\n",
       "      <td>...</td>\n",
       "      <td>False</td>\n",
       "      <td>False</td>\n",
       "      <td>False</td>\n",
       "      <td>False</td>\n",
       "      <td>False</td>\n",
       "      <td>False</td>\n",
       "      <td>Day</td>\n",
       "      <td>Day</td>\n",
       "      <td>Day</td>\n",
       "      <td>Day</td>\n",
       "    </tr>\n",
       "  </tbody>\n",
       "</table>\n",
       "<p>5 rows × 47 columns</p>\n",
       "</div>"
      ],
      "text/plain": [
       "    ID  Severity           Start_Time             End_Time  Start_Lat  \\\n",
       "0  A-1         3  2016-02-08 00:37:08  2016-02-08 06:37:08  40.108910   \n",
       "1  A-2         2  2016-02-08 05:56:20  2016-02-08 11:56:20  39.865420   \n",
       "2  A-3         2  2016-02-08 06:15:39  2016-02-08 12:15:39  39.102660   \n",
       "3  A-4         2  2016-02-08 06:51:45  2016-02-08 12:51:45  41.062130   \n",
       "4  A-5         3  2016-02-08 07:53:43  2016-02-08 13:53:43  39.172393   \n",
       "\n",
       "   Start_Lng    End_Lat    End_Lng  Distance(mi)  \\\n",
       "0 -83.092860  40.112060 -83.031870         3.230   \n",
       "1 -84.062800  39.865010 -84.048730         0.747   \n",
       "2 -84.524680  39.102090 -84.523960         0.055   \n",
       "3 -81.537840  41.062170 -81.535470         0.123   \n",
       "4 -84.492792  39.170476 -84.501798         0.500   \n",
       "\n",
       "                                         Description  ...  Roundabout Station  \\\n",
       "0  Between Sawmill Rd/Exit 20 and OH-315/Olentang...  ...       False   False   \n",
       "1                 At OH-4/OH-235/Exit 41 - Accident.  ...       False   False   \n",
       "2                   At I-71/US-50/Exit 1 - Accident.  ...       False   False   \n",
       "3                    At Dart Ave/Exit 21 - Accident.  ...       False   False   \n",
       "4                 At Mitchell Ave/Exit 6 - Accident.  ...       False   False   \n",
       "\n",
       "    Stop Traffic_Calming Traffic_Signal Turning_Loop Sunrise_Sunset  \\\n",
       "0  False           False          False        False          Night   \n",
       "1  False           False          False        False          Night   \n",
       "2  False           False          False        False          Night   \n",
       "3  False           False          False        False          Night   \n",
       "4  False           False          False        False            Day   \n",
       "\n",
       "  Civil_Twilight Nautical_Twilight Astronomical_Twilight  \n",
       "0          Night             Night                 Night  \n",
       "1          Night             Night                 Night  \n",
       "2          Night             Night                   Day  \n",
       "3          Night               Day                   Day  \n",
       "4            Day               Day                   Day  \n",
       "\n",
       "[5 rows x 47 columns]"
      ]
     },
     "execution_count": 1,
     "metadata": {},
     "output_type": "execute_result"
    }
   ],
   "source": [
    "#us accident data set\n",
    "import pandas as pd\n",
    "df=pd.read_csv(r\"C:\\Users\\Bharti\\US_Accidents_Dec21_updated.csv\")\n",
    "df.head()"
   ]
  },
  {
   "cell_type": "code",
   "execution_count": 2,
   "id": "ccd54910",
   "metadata": {},
   "outputs": [
    {
     "data": {
      "text/plain": [
       "(2845342, 47)"
      ]
     },
     "execution_count": 2,
     "metadata": {},
     "output_type": "execute_result"
    }
   ],
   "source": [
    "df.shape"
   ]
  },
  {
   "cell_type": "markdown",
   "id": "184bd5cb",
   "metadata": {},
   "source": [
    "# look at some information about the data and column info\n",
    "df.info()"
   ]
  },
  {
   "cell_type": "code",
   "execution_count": 3,
   "id": "8540f331",
   "metadata": {},
   "outputs": [
    {
     "name": "stdout",
     "output_type": "stream",
     "text": [
      "<class 'pandas.core.frame.DataFrame'>\n",
      "RangeIndex: 2845342 entries, 0 to 2845341\n",
      "Data columns (total 47 columns):\n",
      " #   Column                 Dtype  \n",
      "---  ------                 -----  \n",
      " 0   ID                     object \n",
      " 1   Severity               int64  \n",
      " 2   Start_Time             object \n",
      " 3   End_Time               object \n",
      " 4   Start_Lat              float64\n",
      " 5   Start_Lng              float64\n",
      " 6   End_Lat                float64\n",
      " 7   End_Lng                float64\n",
      " 8   Distance(mi)           float64\n",
      " 9   Description            object \n",
      " 10  Number                 float64\n",
      " 11  Street                 object \n",
      " 12  Side                   object \n",
      " 13  City                   object \n",
      " 14  County                 object \n",
      " 15  State                  object \n",
      " 16  Zipcode                object \n",
      " 17  Country                object \n",
      " 18  Timezone               object \n",
      " 19  Airport_Code           object \n",
      " 20  Weather_Timestamp      object \n",
      " 21  Temperature(F)         float64\n",
      " 22  Wind_Chill(F)          float64\n",
      " 23  Humidity(%)            float64\n",
      " 24  Pressure(in)           float64\n",
      " 25  Visibility(mi)         float64\n",
      " 26  Wind_Direction         object \n",
      " 27  Wind_Speed(mph)        float64\n",
      " 28  Precipitation(in)      float64\n",
      " 29  Weather_Condition      object \n",
      " 30  Amenity                bool   \n",
      " 31  Bump                   bool   \n",
      " 32  Crossing               bool   \n",
      " 33  Give_Way               bool   \n",
      " 34  Junction               bool   \n",
      " 35  No_Exit                bool   \n",
      " 36  Railway                bool   \n",
      " 37  Roundabout             bool   \n",
      " 38  Station                bool   \n",
      " 39  Stop                   bool   \n",
      " 40  Traffic_Calming        bool   \n",
      " 41  Traffic_Signal         bool   \n",
      " 42  Turning_Loop           bool   \n",
      " 43  Sunrise_Sunset         object \n",
      " 44  Civil_Twilight         object \n",
      " 45  Nautical_Twilight      object \n",
      " 46  Astronomical_Twilight  object \n",
      "dtypes: bool(13), float64(13), int64(1), object(20)\n",
      "memory usage: 773.4+ MB\n"
     ]
    }
   ],
   "source": [
    "df.info()"
   ]
  },
  {
   "cell_type": "code",
   "execution_count": 4,
   "id": "5196d7e1",
   "metadata": {},
   "outputs": [
    {
     "data": {
      "text/html": [
       "<div>\n",
       "<style scoped>\n",
       "    .dataframe tbody tr th:only-of-type {\n",
       "        vertical-align: middle;\n",
       "    }\n",
       "\n",
       "    .dataframe tbody tr th {\n",
       "        vertical-align: top;\n",
       "    }\n",
       "\n",
       "    .dataframe thead th {\n",
       "        text-align: right;\n",
       "    }\n",
       "</style>\n",
       "<table border=\"1\" class=\"dataframe\">\n",
       "  <thead>\n",
       "    <tr style=\"text-align: right;\">\n",
       "      <th></th>\n",
       "      <th>Severity</th>\n",
       "      <th>Start_Lat</th>\n",
       "      <th>Start_Lng</th>\n",
       "      <th>End_Lat</th>\n",
       "      <th>End_Lng</th>\n",
       "      <th>Distance(mi)</th>\n",
       "      <th>Number</th>\n",
       "      <th>Temperature(F)</th>\n",
       "      <th>Wind_Chill(F)</th>\n",
       "      <th>Humidity(%)</th>\n",
       "      <th>Pressure(in)</th>\n",
       "      <th>Visibility(mi)</th>\n",
       "      <th>Wind_Speed(mph)</th>\n",
       "      <th>Precipitation(in)</th>\n",
       "    </tr>\n",
       "  </thead>\n",
       "  <tbody>\n",
       "    <tr>\n",
       "      <th>count</th>\n",
       "      <td>2.845342e+06</td>\n",
       "      <td>2.845342e+06</td>\n",
       "      <td>2.845342e+06</td>\n",
       "      <td>2.845342e+06</td>\n",
       "      <td>2.845342e+06</td>\n",
       "      <td>2.845342e+06</td>\n",
       "      <td>1.101431e+06</td>\n",
       "      <td>2.776068e+06</td>\n",
       "      <td>2.375699e+06</td>\n",
       "      <td>2.772250e+06</td>\n",
       "      <td>2.786142e+06</td>\n",
       "      <td>2.774796e+06</td>\n",
       "      <td>2.687398e+06</td>\n",
       "      <td>2.295884e+06</td>\n",
       "    </tr>\n",
       "    <tr>\n",
       "      <th>mean</th>\n",
       "      <td>2.137572e+00</td>\n",
       "      <td>3.624520e+01</td>\n",
       "      <td>-9.711463e+01</td>\n",
       "      <td>3.624532e+01</td>\n",
       "      <td>-9.711439e+01</td>\n",
       "      <td>7.026779e-01</td>\n",
       "      <td>8.089408e+03</td>\n",
       "      <td>6.179356e+01</td>\n",
       "      <td>5.965823e+01</td>\n",
       "      <td>6.436545e+01</td>\n",
       "      <td>2.947234e+01</td>\n",
       "      <td>9.099391e+00</td>\n",
       "      <td>7.395044e+00</td>\n",
       "      <td>7.016940e-03</td>\n",
       "    </tr>\n",
       "    <tr>\n",
       "      <th>std</th>\n",
       "      <td>4.787216e-01</td>\n",
       "      <td>5.363797e+00</td>\n",
       "      <td>1.831782e+01</td>\n",
       "      <td>5.363873e+00</td>\n",
       "      <td>1.831763e+01</td>\n",
       "      <td>1.560361e+00</td>\n",
       "      <td>1.836009e+04</td>\n",
       "      <td>1.862263e+01</td>\n",
       "      <td>2.116097e+01</td>\n",
       "      <td>2.287457e+01</td>\n",
       "      <td>1.045286e+00</td>\n",
       "      <td>2.717546e+00</td>\n",
       "      <td>5.527454e+00</td>\n",
       "      <td>9.348831e-02</td>\n",
       "    </tr>\n",
       "    <tr>\n",
       "      <th>min</th>\n",
       "      <td>1.000000e+00</td>\n",
       "      <td>2.456603e+01</td>\n",
       "      <td>-1.245481e+02</td>\n",
       "      <td>2.456601e+01</td>\n",
       "      <td>-1.245457e+02</td>\n",
       "      <td>0.000000e+00</td>\n",
       "      <td>0.000000e+00</td>\n",
       "      <td>-8.900000e+01</td>\n",
       "      <td>-8.900000e+01</td>\n",
       "      <td>1.000000e+00</td>\n",
       "      <td>0.000000e+00</td>\n",
       "      <td>0.000000e+00</td>\n",
       "      <td>0.000000e+00</td>\n",
       "      <td>0.000000e+00</td>\n",
       "    </tr>\n",
       "    <tr>\n",
       "      <th>25%</th>\n",
       "      <td>2.000000e+00</td>\n",
       "      <td>3.344517e+01</td>\n",
       "      <td>-1.180331e+02</td>\n",
       "      <td>3.344628e+01</td>\n",
       "      <td>-1.180333e+02</td>\n",
       "      <td>5.200000e-02</td>\n",
       "      <td>1.270000e+03</td>\n",
       "      <td>5.000000e+01</td>\n",
       "      <td>4.600000e+01</td>\n",
       "      <td>4.800000e+01</td>\n",
       "      <td>2.931000e+01</td>\n",
       "      <td>1.000000e+01</td>\n",
       "      <td>3.500000e+00</td>\n",
       "      <td>0.000000e+00</td>\n",
       "    </tr>\n",
       "    <tr>\n",
       "      <th>50%</th>\n",
       "      <td>2.000000e+00</td>\n",
       "      <td>3.609861e+01</td>\n",
       "      <td>-9.241808e+01</td>\n",
       "      <td>3.609799e+01</td>\n",
       "      <td>-9.241772e+01</td>\n",
       "      <td>2.440000e-01</td>\n",
       "      <td>4.007000e+03</td>\n",
       "      <td>6.400000e+01</td>\n",
       "      <td>6.300000e+01</td>\n",
       "      <td>6.700000e+01</td>\n",
       "      <td>2.982000e+01</td>\n",
       "      <td>1.000000e+01</td>\n",
       "      <td>7.000000e+00</td>\n",
       "      <td>0.000000e+00</td>\n",
       "    </tr>\n",
       "    <tr>\n",
       "      <th>75%</th>\n",
       "      <td>2.000000e+00</td>\n",
       "      <td>4.016024e+01</td>\n",
       "      <td>-8.037243e+01</td>\n",
       "      <td>4.016105e+01</td>\n",
       "      <td>-8.037338e+01</td>\n",
       "      <td>7.640000e-01</td>\n",
       "      <td>9.567000e+03</td>\n",
       "      <td>7.600000e+01</td>\n",
       "      <td>7.600000e+01</td>\n",
       "      <td>8.300000e+01</td>\n",
       "      <td>3.001000e+01</td>\n",
       "      <td>1.000000e+01</td>\n",
       "      <td>1.000000e+01</td>\n",
       "      <td>0.000000e+00</td>\n",
       "    </tr>\n",
       "    <tr>\n",
       "      <th>max</th>\n",
       "      <td>4.000000e+00</td>\n",
       "      <td>4.900058e+01</td>\n",
       "      <td>-6.711317e+01</td>\n",
       "      <td>4.907500e+01</td>\n",
       "      <td>-6.710924e+01</td>\n",
       "      <td>1.551860e+02</td>\n",
       "      <td>9.999997e+06</td>\n",
       "      <td>1.960000e+02</td>\n",
       "      <td>1.960000e+02</td>\n",
       "      <td>1.000000e+02</td>\n",
       "      <td>5.890000e+01</td>\n",
       "      <td>1.400000e+02</td>\n",
       "      <td>1.087000e+03</td>\n",
       "      <td>2.400000e+01</td>\n",
       "    </tr>\n",
       "  </tbody>\n",
       "</table>\n",
       "</div>"
      ],
      "text/plain": [
       "           Severity     Start_Lat     Start_Lng       End_Lat       End_Lng  \\\n",
       "count  2.845342e+06  2.845342e+06  2.845342e+06  2.845342e+06  2.845342e+06   \n",
       "mean   2.137572e+00  3.624520e+01 -9.711463e+01  3.624532e+01 -9.711439e+01   \n",
       "std    4.787216e-01  5.363797e+00  1.831782e+01  5.363873e+00  1.831763e+01   \n",
       "min    1.000000e+00  2.456603e+01 -1.245481e+02  2.456601e+01 -1.245457e+02   \n",
       "25%    2.000000e+00  3.344517e+01 -1.180331e+02  3.344628e+01 -1.180333e+02   \n",
       "50%    2.000000e+00  3.609861e+01 -9.241808e+01  3.609799e+01 -9.241772e+01   \n",
       "75%    2.000000e+00  4.016024e+01 -8.037243e+01  4.016105e+01 -8.037338e+01   \n",
       "max    4.000000e+00  4.900058e+01 -6.711317e+01  4.907500e+01 -6.710924e+01   \n",
       "\n",
       "       Distance(mi)        Number  Temperature(F)  Wind_Chill(F)  \\\n",
       "count  2.845342e+06  1.101431e+06    2.776068e+06   2.375699e+06   \n",
       "mean   7.026779e-01  8.089408e+03    6.179356e+01   5.965823e+01   \n",
       "std    1.560361e+00  1.836009e+04    1.862263e+01   2.116097e+01   \n",
       "min    0.000000e+00  0.000000e+00   -8.900000e+01  -8.900000e+01   \n",
       "25%    5.200000e-02  1.270000e+03    5.000000e+01   4.600000e+01   \n",
       "50%    2.440000e-01  4.007000e+03    6.400000e+01   6.300000e+01   \n",
       "75%    7.640000e-01  9.567000e+03    7.600000e+01   7.600000e+01   \n",
       "max    1.551860e+02  9.999997e+06    1.960000e+02   1.960000e+02   \n",
       "\n",
       "        Humidity(%)  Pressure(in)  Visibility(mi)  Wind_Speed(mph)  \\\n",
       "count  2.772250e+06  2.786142e+06    2.774796e+06     2.687398e+06   \n",
       "mean   6.436545e+01  2.947234e+01    9.099391e+00     7.395044e+00   \n",
       "std    2.287457e+01  1.045286e+00    2.717546e+00     5.527454e+00   \n",
       "min    1.000000e+00  0.000000e+00    0.000000e+00     0.000000e+00   \n",
       "25%    4.800000e+01  2.931000e+01    1.000000e+01     3.500000e+00   \n",
       "50%    6.700000e+01  2.982000e+01    1.000000e+01     7.000000e+00   \n",
       "75%    8.300000e+01  3.001000e+01    1.000000e+01     1.000000e+01   \n",
       "max    1.000000e+02  5.890000e+01    1.400000e+02     1.087000e+03   \n",
       "\n",
       "       Precipitation(in)  \n",
       "count       2.295884e+06  \n",
       "mean        7.016940e-03  \n",
       "std         9.348831e-02  \n",
       "min         0.000000e+00  \n",
       "25%         0.000000e+00  \n",
       "50%         0.000000e+00  \n",
       "75%         0.000000e+00  \n",
       "max         2.400000e+01  "
      ]
     },
     "execution_count": 4,
     "metadata": {},
     "output_type": "execute_result"
    }
   ],
   "source": [
    "df.describe()"
   ]
  },
  {
   "cell_type": "code",
   "execution_count": 5,
   "id": "dd05fb3b",
   "metadata": {},
   "outputs": [
    {
     "data": {
      "text/plain": [
       "Number                   1743911\n",
       "Precipitation(in)         549458\n",
       "Wind_Chill(F)             469643\n",
       "Wind_Speed(mph)           157944\n",
       "Wind_Direction             73775\n",
       "Humidity(%)                73092\n",
       "Weather_Condition          70636\n",
       "Visibility(mi)             70546\n",
       "Temperature(F)             69274\n",
       "Pressure(in)               59200\n",
       "Weather_Timestamp          50736\n",
       "Airport_Code                9549\n",
       "Timezone                    3659\n",
       "Nautical_Twilight           2867\n",
       "Civil_Twilight              2867\n",
       "Sunrise_Sunset              2867\n",
       "Astronomical_Twilight       2867\n",
       "Zipcode                     1319\n",
       "City                         137\n",
       "Street                         2\n",
       "Country                        0\n",
       "Junction                       0\n",
       "Start_Time                     0\n",
       "End_Time                       0\n",
       "Start_Lat                      0\n",
       "Turning_Loop                   0\n",
       "Traffic_Signal                 0\n",
       "Traffic_Calming                0\n",
       "Stop                           0\n",
       "Station                        0\n",
       "Roundabout                     0\n",
       "Railway                        0\n",
       "No_Exit                        0\n",
       "Crossing                       0\n",
       "Give_Way                       0\n",
       "Bump                           0\n",
       "Amenity                        0\n",
       "Start_Lng                      0\n",
       "End_Lat                        0\n",
       "End_Lng                        0\n",
       "Distance(mi)                   0\n",
       "Description                    0\n",
       "Severity                       0\n",
       "Side                           0\n",
       "County                         0\n",
       "State                          0\n",
       "ID                             0\n",
       "dtype: int64"
      ]
     },
     "execution_count": 5,
     "metadata": {},
     "output_type": "execute_result"
    }
   ],
   "source": [
    "#fix missing and incorrect values :missing values\n",
    "df.isnull().sum().sort_values(ascending=False)\n"
   ]
  },
  {
   "cell_type": "markdown",
   "id": "9aa88055",
   "metadata": {},
   "source": [
    "# percentage of missing values per column"
   ]
  },
  {
   "cell_type": "code",
   "execution_count": 6,
   "id": "1653c3e4",
   "metadata": {},
   "outputs": [
    {
     "data": {
      "text/plain": [
       "Number                   61.290031\n",
       "Precipitation(in)        19.310789\n",
       "Wind_Chill(F)            16.505678\n",
       "Wind_Speed(mph)           5.550967\n",
       "Wind_Direction            2.592834\n",
       "Humidity(%)               2.568830\n",
       "Weather_Condition         2.482514\n",
       "Visibility(mi)            2.479350\n",
       "Temperature(F)            2.434646\n",
       "Pressure(in)              2.080593\n",
       "Weather_Timestamp         1.783125\n",
       "Airport_Code              0.335601\n",
       "Timezone                  0.128596\n",
       "Nautical_Twilight         0.100761\n",
       "Civil_Twilight            0.100761\n",
       "Sunrise_Sunset            0.100761\n",
       "Astronomical_Twilight     0.100761\n",
       "Zipcode                   0.046356\n",
       "City                      0.004815\n",
       "Street                    0.000070\n",
       "Country                   0.000000\n",
       "Junction                  0.000000\n",
       "Start_Time                0.000000\n",
       "End_Time                  0.000000\n",
       "Start_Lat                 0.000000\n",
       "Turning_Loop              0.000000\n",
       "Traffic_Signal            0.000000\n",
       "Traffic_Calming           0.000000\n",
       "Stop                      0.000000\n",
       "Station                   0.000000\n",
       "Roundabout                0.000000\n",
       "Railway                   0.000000\n",
       "No_Exit                   0.000000\n",
       "Crossing                  0.000000\n",
       "Give_Way                  0.000000\n",
       "Bump                      0.000000\n",
       "Amenity                   0.000000\n",
       "Start_Lng                 0.000000\n",
       "End_Lat                   0.000000\n",
       "End_Lng                   0.000000\n",
       "Distance(mi)              0.000000\n",
       "Description               0.000000\n",
       "Severity                  0.000000\n",
       "Side                      0.000000\n",
       "County                    0.000000\n",
       "State                     0.000000\n",
       "ID                        0.000000\n",
       "dtype: float64"
      ]
     },
     "execution_count": 6,
     "metadata": {},
     "output_type": "execute_result"
    }
   ],
   "source": [
    "(df.isnull().sum().sort_values(ascending=False)/len(df))*100"
   ]
  },
  {
   "cell_type": "code",
   "execution_count": 7,
   "id": "f40944a5",
   "metadata": {},
   "outputs": [
    {
     "data": {
      "text/plain": [
       "Index(['ID', 'Severity', 'Start_Time', 'End_Time', 'Start_Lat', 'Start_Lng',\n",
       "       'End_Lat', 'End_Lng', 'Distance(mi)', 'Description', 'Number', 'Street',\n",
       "       'Side', 'City', 'County', 'State', 'Zipcode', 'Country', 'Timezone',\n",
       "       'Airport_Code', 'Weather_Timestamp', 'Temperature(F)', 'Wind_Chill(F)',\n",
       "       'Humidity(%)', 'Pressure(in)', 'Visibility(mi)', 'Wind_Direction',\n",
       "       'Wind_Speed(mph)', 'Precipitation(in)', 'Weather_Condition', 'Amenity',\n",
       "       'Bump', 'Crossing', 'Give_Way', 'Junction', 'No_Exit', 'Railway',\n",
       "       'Roundabout', 'Station', 'Stop', 'Traffic_Calming', 'Traffic_Signal',\n",
       "       'Turning_Loop', 'Sunrise_Sunset', 'Civil_Twilight', 'Nautical_Twilight',\n",
       "       'Astronomical_Twilight'],\n",
       "      dtype='object')"
      ]
     },
     "execution_count": 7,
     "metadata": {},
     "output_type": "execute_result"
    }
   ],
   "source": [
    "df.columns"
   ]
  },
  {
   "cell_type": "code",
   "execution_count": 8,
   "id": "fca47524",
   "metadata": {},
   "outputs": [],
   "source": [
    "#remove  columns that you don't want to use\n",
    "\n",
    "df.drop([\"Number\",\"Precipitation(in)\",\"Wind_Chill(F)\",\"Wind_Speed(mph)\",\"Wind_Direction\"],axis=1,inplace =True)\n",
    "\n"
   ]
  },
  {
   "cell_type": "code",
   "execution_count": 9,
   "id": "495efd79",
   "metadata": {},
   "outputs": [
    {
     "data": {
      "text/html": [
       "<div>\n",
       "<style scoped>\n",
       "    .dataframe tbody tr th:only-of-type {\n",
       "        vertical-align: middle;\n",
       "    }\n",
       "\n",
       "    .dataframe tbody tr th {\n",
       "        vertical-align: top;\n",
       "    }\n",
       "\n",
       "    .dataframe thead th {\n",
       "        text-align: right;\n",
       "    }\n",
       "</style>\n",
       "<table border=\"1\" class=\"dataframe\">\n",
       "  <thead>\n",
       "    <tr style=\"text-align: right;\">\n",
       "      <th></th>\n",
       "      <th>ID</th>\n",
       "      <th>Severity</th>\n",
       "      <th>Start_Time</th>\n",
       "      <th>End_Time</th>\n",
       "      <th>Start_Lat</th>\n",
       "      <th>Start_Lng</th>\n",
       "      <th>End_Lat</th>\n",
       "      <th>End_Lng</th>\n",
       "      <th>Distance(mi)</th>\n",
       "      <th>Description</th>\n",
       "      <th>...</th>\n",
       "      <th>Roundabout</th>\n",
       "      <th>Station</th>\n",
       "      <th>Stop</th>\n",
       "      <th>Traffic_Calming</th>\n",
       "      <th>Traffic_Signal</th>\n",
       "      <th>Turning_Loop</th>\n",
       "      <th>Sunrise_Sunset</th>\n",
       "      <th>Civil_Twilight</th>\n",
       "      <th>Nautical_Twilight</th>\n",
       "      <th>Astronomical_Twilight</th>\n",
       "    </tr>\n",
       "  </thead>\n",
       "  <tbody>\n",
       "    <tr>\n",
       "      <th>0</th>\n",
       "      <td>A-1</td>\n",
       "      <td>3</td>\n",
       "      <td>2016-02-08 00:37:08</td>\n",
       "      <td>2016-02-08 06:37:08</td>\n",
       "      <td>40.108910</td>\n",
       "      <td>-83.092860</td>\n",
       "      <td>40.112060</td>\n",
       "      <td>-83.031870</td>\n",
       "      <td>3.230</td>\n",
       "      <td>Between Sawmill Rd/Exit 20 and OH-315/Olentang...</td>\n",
       "      <td>...</td>\n",
       "      <td>False</td>\n",
       "      <td>False</td>\n",
       "      <td>False</td>\n",
       "      <td>False</td>\n",
       "      <td>False</td>\n",
       "      <td>False</td>\n",
       "      <td>Night</td>\n",
       "      <td>Night</td>\n",
       "      <td>Night</td>\n",
       "      <td>Night</td>\n",
       "    </tr>\n",
       "    <tr>\n",
       "      <th>1</th>\n",
       "      <td>A-2</td>\n",
       "      <td>2</td>\n",
       "      <td>2016-02-08 05:56:20</td>\n",
       "      <td>2016-02-08 11:56:20</td>\n",
       "      <td>39.865420</td>\n",
       "      <td>-84.062800</td>\n",
       "      <td>39.865010</td>\n",
       "      <td>-84.048730</td>\n",
       "      <td>0.747</td>\n",
       "      <td>At OH-4/OH-235/Exit 41 - Accident.</td>\n",
       "      <td>...</td>\n",
       "      <td>False</td>\n",
       "      <td>False</td>\n",
       "      <td>False</td>\n",
       "      <td>False</td>\n",
       "      <td>False</td>\n",
       "      <td>False</td>\n",
       "      <td>Night</td>\n",
       "      <td>Night</td>\n",
       "      <td>Night</td>\n",
       "      <td>Night</td>\n",
       "    </tr>\n",
       "    <tr>\n",
       "      <th>2</th>\n",
       "      <td>A-3</td>\n",
       "      <td>2</td>\n",
       "      <td>2016-02-08 06:15:39</td>\n",
       "      <td>2016-02-08 12:15:39</td>\n",
       "      <td>39.102660</td>\n",
       "      <td>-84.524680</td>\n",
       "      <td>39.102090</td>\n",
       "      <td>-84.523960</td>\n",
       "      <td>0.055</td>\n",
       "      <td>At I-71/US-50/Exit 1 - Accident.</td>\n",
       "      <td>...</td>\n",
       "      <td>False</td>\n",
       "      <td>False</td>\n",
       "      <td>False</td>\n",
       "      <td>False</td>\n",
       "      <td>False</td>\n",
       "      <td>False</td>\n",
       "      <td>Night</td>\n",
       "      <td>Night</td>\n",
       "      <td>Night</td>\n",
       "      <td>Day</td>\n",
       "    </tr>\n",
       "    <tr>\n",
       "      <th>3</th>\n",
       "      <td>A-4</td>\n",
       "      <td>2</td>\n",
       "      <td>2016-02-08 06:51:45</td>\n",
       "      <td>2016-02-08 12:51:45</td>\n",
       "      <td>41.062130</td>\n",
       "      <td>-81.537840</td>\n",
       "      <td>41.062170</td>\n",
       "      <td>-81.535470</td>\n",
       "      <td>0.123</td>\n",
       "      <td>At Dart Ave/Exit 21 - Accident.</td>\n",
       "      <td>...</td>\n",
       "      <td>False</td>\n",
       "      <td>False</td>\n",
       "      <td>False</td>\n",
       "      <td>False</td>\n",
       "      <td>False</td>\n",
       "      <td>False</td>\n",
       "      <td>Night</td>\n",
       "      <td>Night</td>\n",
       "      <td>Day</td>\n",
       "      <td>Day</td>\n",
       "    </tr>\n",
       "    <tr>\n",
       "      <th>4</th>\n",
       "      <td>A-5</td>\n",
       "      <td>3</td>\n",
       "      <td>2016-02-08 07:53:43</td>\n",
       "      <td>2016-02-08 13:53:43</td>\n",
       "      <td>39.172393</td>\n",
       "      <td>-84.492792</td>\n",
       "      <td>39.170476</td>\n",
       "      <td>-84.501798</td>\n",
       "      <td>0.500</td>\n",
       "      <td>At Mitchell Ave/Exit 6 - Accident.</td>\n",
       "      <td>...</td>\n",
       "      <td>False</td>\n",
       "      <td>False</td>\n",
       "      <td>False</td>\n",
       "      <td>False</td>\n",
       "      <td>False</td>\n",
       "      <td>False</td>\n",
       "      <td>Day</td>\n",
       "      <td>Day</td>\n",
       "      <td>Day</td>\n",
       "      <td>Day</td>\n",
       "    </tr>\n",
       "  </tbody>\n",
       "</table>\n",
       "<p>5 rows × 42 columns</p>\n",
       "</div>"
      ],
      "text/plain": [
       "    ID  Severity           Start_Time             End_Time  Start_Lat  \\\n",
       "0  A-1         3  2016-02-08 00:37:08  2016-02-08 06:37:08  40.108910   \n",
       "1  A-2         2  2016-02-08 05:56:20  2016-02-08 11:56:20  39.865420   \n",
       "2  A-3         2  2016-02-08 06:15:39  2016-02-08 12:15:39  39.102660   \n",
       "3  A-4         2  2016-02-08 06:51:45  2016-02-08 12:51:45  41.062130   \n",
       "4  A-5         3  2016-02-08 07:53:43  2016-02-08 13:53:43  39.172393   \n",
       "\n",
       "   Start_Lng    End_Lat    End_Lng  Distance(mi)  \\\n",
       "0 -83.092860  40.112060 -83.031870         3.230   \n",
       "1 -84.062800  39.865010 -84.048730         0.747   \n",
       "2 -84.524680  39.102090 -84.523960         0.055   \n",
       "3 -81.537840  41.062170 -81.535470         0.123   \n",
       "4 -84.492792  39.170476 -84.501798         0.500   \n",
       "\n",
       "                                         Description  ... Roundabout Station  \\\n",
       "0  Between Sawmill Rd/Exit 20 and OH-315/Olentang...  ...      False   False   \n",
       "1                 At OH-4/OH-235/Exit 41 - Accident.  ...      False   False   \n",
       "2                   At I-71/US-50/Exit 1 - Accident.  ...      False   False   \n",
       "3                    At Dart Ave/Exit 21 - Accident.  ...      False   False   \n",
       "4                 At Mitchell Ave/Exit 6 - Accident.  ...      False   False   \n",
       "\n",
       "    Stop Traffic_Calming Traffic_Signal Turning_Loop Sunrise_Sunset  \\\n",
       "0  False           False          False        False          Night   \n",
       "1  False           False          False        False          Night   \n",
       "2  False           False          False        False          Night   \n",
       "3  False           False          False        False          Night   \n",
       "4  False           False          False        False            Day   \n",
       "\n",
       "  Civil_Twilight Nautical_Twilight Astronomical_Twilight  \n",
       "0          Night             Night                 Night  \n",
       "1          Night             Night                 Night  \n",
       "2          Night             Night                   Day  \n",
       "3          Night               Day                   Day  \n",
       "4            Day               Day                   Day  \n",
       "\n",
       "[5 rows x 42 columns]"
      ]
     },
     "execution_count": 9,
     "metadata": {},
     "output_type": "execute_result"
    }
   ],
   "source": [
    "df.head()"
   ]
  },
  {
   "cell_type": "code",
   "execution_count": 10,
   "id": "c98707b5",
   "metadata": {},
   "outputs": [],
   "source": [
    "#Exploratory Analysis and Visualization\n",
    "#Columns\n",
    "#city\n",
    "#start time\n",
    "#start Lat and start Lng\n",
    "#Temperature\n",
    "#Weather condition"
   ]
  },
  {
   "cell_type": "markdown",
   "id": "57d2cc73",
   "metadata": {},
   "source": [
    "# City data Analysis"
   ]
  },
  {
   "cell_type": "code",
   "execution_count": 11,
   "id": "7a2f4a21",
   "metadata": {
    "scrolled": true
   },
   "outputs": [
    {
     "data": {
      "text/plain": [
       "Miami                           106966\n",
       "Los Angeles                      68956\n",
       "Orlando                          54691\n",
       "Dallas                           41979\n",
       "Houston                          39448\n",
       "                                 ...  \n",
       "De Graff                             1\n",
       "Township 9                           1\n",
       "Elida                                1\n",
       "Old Tappan                           1\n",
       "American Fork-Pleasant Grove         1\n",
       "Name: City, Length: 11681, dtype: int64"
      ]
     },
     "execution_count": 11,
     "metadata": {},
     "output_type": "execute_result"
    }
   ],
   "source": [
    "df['City'].value_counts().sort_values(ascending =False)"
   ]
  },
  {
   "cell_type": "code",
   "execution_count": 12,
   "id": "27099b39",
   "metadata": {},
   "outputs": [
    {
     "data": {
      "text/plain": [
       "Miami                           106966\n",
       "Los Angeles                      68956\n",
       "Orlando                          54691\n",
       "Dallas                           41979\n",
       "Houston                          39448\n",
       "                                 ...  \n",
       "De Graff                             1\n",
       "Township 9                           1\n",
       "Elida                                1\n",
       "Old Tappan                           1\n",
       "American Fork-Pleasant Grove         1\n",
       "Name: City, Length: 11681, dtype: int64"
      ]
     },
     "execution_count": 12,
     "metadata": {},
     "output_type": "execute_result"
    }
   ],
   "source": [
    "df[\"City\"].value_counts().sort_values(ascending =False)"
   ]
  },
  {
   "cell_type": "markdown",
   "id": "bb58fb03",
   "metadata": {},
   "source": [
    "# Plot bar chart for 20 cities(sort according to accident)\n"
   ]
  },
  {
   "cell_type": "code",
   "execution_count": 13,
   "id": "c54dc5f3",
   "metadata": {},
   "outputs": [
    {
     "data": {
      "text/plain": [
       "Miami           106966\n",
       "Los Angeles      68956\n",
       "Orlando          54691\n",
       "Dallas           41979\n",
       "Houston          39448\n",
       "Charlotte        33152\n",
       "Sacramento       32559\n",
       "San Diego        26627\n",
       "Raleigh          22840\n",
       "Minneapolis      22768\n",
       "Portland         20944\n",
       "Nashville        20267\n",
       "Austin           18301\n",
       "Baton Rouge      18182\n",
       "Phoenix          17143\n",
       "Saint Paul       16869\n",
       "New Orleans      16251\n",
       "Atlanta          15622\n",
       "Jacksonville     14967\n",
       "Richmond         14349\n",
       "Name: City, dtype: int64"
      ]
     },
     "execution_count": 13,
     "metadata": {},
     "output_type": "execute_result"
    }
   ],
   "source": [
    "City_counts=df[\"City\"].value_counts().sort_values(ascending =False).iloc[:20]\n",
    "City_counts"
   ]
  },
  {
   "cell_type": "code",
   "execution_count": 14,
   "id": "0b64763c",
   "metadata": {},
   "outputs": [],
   "source": [
    "\n",
    "import seaborn as sns\n",
    "import matplotlib.pyplot as plt\n",
    "import numpy as np"
   ]
  },
  {
   "cell_type": "code",
   "execution_count": 15,
   "id": "8deb3ccf",
   "metadata": {},
   "outputs": [
    {
     "data": {
      "image/png": "[encoded data removed]",
      "text/plain": [
       "<Figure size 1440x720 with 1 Axes>"
      ]
     },
     "metadata": {
      "needs_background": "light"
     },
     "output_type": "display_data"
    }
   ],
   "source": [
    "plt.figure(figsize=(20,10))\n",
    "sns.barplot(x=City_counts.index,y=City_counts.values,data=df)\n",
    "plt.title('TOP 20 CITIES WITH HIGHEST NUMBER OF ACCIDENTS ',fontsize=25)\n",
    "plt.ylabel('Counts', fontsize=15)\n",
    "plt.xlabel('CITY', fontsize=15)\n",
    "\n",
    "plt.show()\n"
   ]
  },
  {
   "cell_type": "markdown",
   "id": "b82f46cc",
   "metadata": {},
   "source": [
    "Cities, the ones with the most accidents are Miami, Los angeles, Orlando, Dallas, and Houston. "
   ]
  },
  {
   "cell_type": "markdown",
   "id": "0b9f4404",
   "metadata": {},
   "source": [
    "#  #                    plot a histogram for city by accident"
   ]
  },
  {
   "cell_type": "code",
   "execution_count": 16,
   "id": "c70ed019",
   "metadata": {},
   "outputs": [
    {
     "data": {
      "text/plain": [
       "<function matplotlib.pyplot.show(close=None, block=None)>"
      ]
     },
     "execution_count": 16,
     "metadata": {},
     "output_type": "execute_result"
    },
    {
     "data": {
      "image/png": "[encoded data removed]",
      "text/plain": [
       "<Figure size 1080x360 with 1 Axes>"
      ]
     },
     "metadata": {
      "needs_background": "light"
     },
     "output_type": "display_data"
    }
   ],
   "source": [
    "plt.figure(figsize=(15,5))\n",
    "plt.hist(City_counts.values,bins=20)\n",
    "plt.show"
   ]
  },
  {
   "cell_type": "markdown",
   "id": "04a4c515",
   "metadata": {},
   "source": [
    "# #Among the top 100 cities in number of accident,which states do they belong to most frequently."
   ]
  },
  {
   "cell_type": "code",
   "execution_count": 17,
   "id": "a2cb1dfa",
   "metadata": {},
   "outputs": [
    {
     "data": {
      "text/html": [
       "<div>\n",
       "<style scoped>\n",
       "    .dataframe tbody tr th:only-of-type {\n",
       "        vertical-align: middle;\n",
       "    }\n",
       "\n",
       "    .dataframe tbody tr th {\n",
       "        vertical-align: top;\n",
       "    }\n",
       "\n",
       "    .dataframe thead th {\n",
       "        text-align: right;\n",
       "    }\n",
       "</style>\n",
       "<table border=\"1\" class=\"dataframe\">\n",
       "  <thead>\n",
       "    <tr style=\"text-align: right;\">\n",
       "      <th></th>\n",
       "      <th>State</th>\n",
       "      <th>City</th>\n",
       "    </tr>\n",
       "    <tr>\n",
       "      <th>City</th>\n",
       "      <th></th>\n",
       "      <th></th>\n",
       "    </tr>\n",
       "  </thead>\n",
       "  <tbody>\n",
       "    <tr>\n",
       "      <th>Miami</th>\n",
       "      <td>FL</td>\n",
       "      <td>106896</td>\n",
       "    </tr>\n",
       "    <tr>\n",
       "      <th>Los Angeles</th>\n",
       "      <td>CA</td>\n",
       "      <td>68956</td>\n",
       "    </tr>\n",
       "    <tr>\n",
       "      <th>Orlando</th>\n",
       "      <td>FL</td>\n",
       "      <td>54654</td>\n",
       "    </tr>\n",
       "    <tr>\n",
       "      <th>Dallas</th>\n",
       "      <td>TX</td>\n",
       "      <td>41615</td>\n",
       "    </tr>\n",
       "    <tr>\n",
       "      <th>Houston</th>\n",
       "      <td>TX</td>\n",
       "      <td>39366</td>\n",
       "    </tr>\n",
       "    <tr>\n",
       "      <th>...</th>\n",
       "      <td>...</td>\n",
       "      <td>...</td>\n",
       "    </tr>\n",
       "    <tr>\n",
       "      <th>Orange</th>\n",
       "      <td>CA</td>\n",
       "      <td>3593</td>\n",
       "    </tr>\n",
       "    <tr>\n",
       "      <th>Columbus</th>\n",
       "      <td>OH</td>\n",
       "      <td>3550</td>\n",
       "    </tr>\n",
       "    <tr>\n",
       "      <th>Ogden</th>\n",
       "      <td>UT</td>\n",
       "      <td>3542</td>\n",
       "    </tr>\n",
       "    <tr>\n",
       "      <th>Bend</th>\n",
       "      <td>OR</td>\n",
       "      <td>3540</td>\n",
       "    </tr>\n",
       "    <tr>\n",
       "      <th>Frederick</th>\n",
       "      <td>MD</td>\n",
       "      <td>3524</td>\n",
       "    </tr>\n",
       "  </tbody>\n",
       "</table>\n",
       "<p>100 rows × 2 columns</p>\n",
       "</div>"
      ],
      "text/plain": [
       "            State    City\n",
       "City                     \n",
       "Miami          FL  106896\n",
       "Los Angeles    CA   68956\n",
       "Orlando        FL   54654\n",
       "Dallas         TX   41615\n",
       "Houston        TX   39366\n",
       "...           ...     ...\n",
       "Orange         CA    3593\n",
       "Columbus       OH    3550\n",
       "Ogden          UT    3542\n",
       "Bend           OR    3540\n",
       "Frederick      MD    3524\n",
       "\n",
       "[100 rows x 2 columns]"
      ]
     },
     "execution_count": 17,
     "metadata": {},
     "output_type": "execute_result"
    }
   ],
   "source": [
    "state_wise_total=df.groupby(['State'])['City'].value_counts().sort_values(ascending=False).nlargest(100).reset_index('State')\n",
    "state_wise_total"
   ]
  },
  {
   "cell_type": "code",
   "execution_count": 18,
   "id": "3f432d3d",
   "metadata": {},
   "outputs": [
    {
     "data": {
      "text/plain": [
       "CA    795868\n",
       "FL    401388\n",
       "TX    149037\n",
       "OR    126341\n",
       "VA    113535\n",
       "NY    108049\n",
       "PA     99975\n",
       "MN     97185\n",
       "NC     91362\n",
       "SC     89216\n",
       "MD     65085\n",
       "AZ     56504\n",
       "NJ     52902\n",
       "TN     52613\n",
       "UT     49193\n",
       "LA     47232\n",
       "IL     47105\n",
       "MI     43843\n",
       "GA     40086\n",
       "WA     32554\n",
       "CT     29762\n",
       "MO     29633\n",
       "CO     25340\n",
       "OH     24409\n",
       "IN     20850\n",
       "AL     19322\n",
       "MT     15964\n",
       "AR     10935\n",
       "IA      9607\n",
       "DC      9133\n",
       "KS      9033\n",
       "OK      8806\n",
       "ID      8544\n",
       "WI      7896\n",
       "WV      7632\n",
       "KY      6638\n",
       "MA      6392\n",
       "NV      6197\n",
       "MS      5320\n",
       "DE      4842\n",
       "RI      4451\n",
       "NH      3866\n",
       "NE      3320\n",
       "NM      2370\n",
       "ND      2258\n",
       "ME      2193\n",
       "WY       990\n",
       "VT       365\n",
       "SD       201\n",
       "Name: State, dtype: int64"
      ]
     },
     "execution_count": 18,
     "metadata": {},
     "output_type": "execute_result"
    }
   ],
   "source": [
    "state_data=df['State'].value_counts().sort_values(ascending=False)\n",
    "state_data"
   ]
  },
  {
   "cell_type": "code",
   "execution_count": 19,
   "id": "ff95cd99",
   "metadata": {},
   "outputs": [
    {
     "data": {
      "text/plain": [
       "<function matplotlib.pyplot.show(close=None, block=None)>"
      ]
     },
     "execution_count": 19,
     "metadata": {},
     "output_type": "execute_result"
    },
    {
     "data": {
      "image/png": "[encoded data removed]",
      "text/plain": [
       "<Figure size 1080x360 with 1 Axes>"
      ]
     },
     "metadata": {
      "needs_background": "light"
     },
     "output_type": "display_data"
    }
   ],
   "source": [
    "plt.figure(figsize=(15,5))\n",
    "sns.countplot(x=df.State,order=state_data.index,data=df)\n",
    "plt.xlabel(\"State\",fontsize=15)\n",
    "plt.ylabel(\"count\",fontsize=15)\n",
    "plt.title(\"State that has highest number of Accidents\",fontsize=20)\n",
    "plt.show"
   ]
  },
  {
   "cell_type": "markdown",
   "id": "35d0afd0",
   "metadata": {},
   "source": [
    "     #Analysis reveals that the state with the highest number of accidents is California. Other states with a high number of accidents include Florida and Texas.\n",
    "    Cities, the ones with the most accidents are Miami, Los angeles, Orlando, Dallas, and Houston. Those cities are part of the states with the highest number of accidents."
   ]
  },
  {
   "cell_type": "markdown",
   "id": "368b8adb",
   "metadata": {},
   "source": [
    "# ###TIME BASED ANALYSIS OF ACCIDENT"
   ]
  },
  {
   "cell_type": "code",
   "execution_count": 20,
   "id": "369c9cab",
   "metadata": {},
   "outputs": [
    {
     "data": {
      "text/plain": [
       "0          2016-02-08 00:37:08\n",
       "1          2016-02-08 05:56:20\n",
       "2          2016-02-08 06:15:39\n",
       "3          2016-02-08 06:51:45\n",
       "4          2016-02-08 07:53:43\n",
       "                  ...         \n",
       "2845337    2019-08-23 18:03:25\n",
       "2845338    2019-08-23 19:11:30\n",
       "2845339    2019-08-23 19:00:21\n",
       "2845340    2019-08-23 19:00:21\n",
       "2845341    2019-08-23 18:52:06\n",
       "Name: Start_Time, Length: 2845342, dtype: object"
      ]
     },
     "execution_count": 20,
     "metadata": {},
     "output_type": "execute_result"
    }
   ],
   "source": [
    "df.Start_Time"
   ]
  },
  {
   "cell_type": "code",
   "execution_count": 21,
   "id": "8cf10bc0",
   "metadata": {},
   "outputs": [
    {
     "data": {
      "text/plain": [
       "0          2016-02-08 06:37:08\n",
       "1          2016-02-08 11:56:20\n",
       "2          2016-02-08 12:15:39\n",
       "3          2016-02-08 12:51:45\n",
       "4          2016-02-08 13:53:43\n",
       "                  ...         \n",
       "2845337    2019-08-23 18:32:01\n",
       "2845338    2019-08-23 19:38:23\n",
       "2845339    2019-08-23 19:28:49\n",
       "2845340    2019-08-23 19:29:42\n",
       "2845341    2019-08-23 19:21:31\n",
       "Name: End_Time, Length: 2845342, dtype: object"
      ]
     },
     "execution_count": 21,
     "metadata": {},
     "output_type": "execute_result"
    }
   ],
   "source": [
    "df.End_Time"
   ]
  },
  {
   "cell_type": "code",
   "execution_count": 22,
   "id": "62d98f1b",
   "metadata": {},
   "outputs": [
    {
     "name": "stderr",
     "output_type": "stream",
     "text": [
      "C:\\Users\\Bharti\\AppData\\Local\\Temp\\ipykernel_8764\\429197862.py:2: UserWarning: Pandas doesn't allow columns to be created via a new attribute name - see https://pandas.pydata.org/pandas-docs/stable/indexing.html#attribute-access\n",
      "  df.start_time=pd.to_datetime(df.Start_Time)\n"
     ]
    },
    {
     "data": {
      "text/plain": [
       "0   2016-02-08 00:37:08\n",
       "1   2016-02-08 05:56:20\n",
       "2   2016-02-08 06:15:39\n",
       "3   2016-02-08 06:51:45\n",
       "4   2016-02-08 07:53:43\n",
       "Name: Start_Time, dtype: datetime64[ns]"
      ]
     },
     "execution_count": 22,
     "metadata": {},
     "output_type": "execute_result"
    }
   ],
   "source": [
    "import datetime as dt\n",
    "df.start_time=pd.to_datetime(df.Start_Time)\n",
    "df.start_time.head()"
   ]
  },
  {
   "cell_type": "markdown",
   "id": "e76420e9",
   "metadata": {},
   "source": [
    "# ACCIDENTS START TIME HOUR ANALYSIS"
   ]
  },
  {
   "cell_type": "code",
   "execution_count": 23,
   "id": "4dbbdd10",
   "metadata": {},
   "outputs": [
    {
     "data": {
      "text/plain": [
       "0           0\n",
       "1           5\n",
       "2           6\n",
       "3           6\n",
       "4           7\n",
       "           ..\n",
       "2845337    18\n",
       "2845338    19\n",
       "2845339    19\n",
       "2845340    19\n",
       "2845341    18\n",
       "Name: Start_Time, Length: 2845342, dtype: int64"
      ]
     },
     "execution_count": 23,
     "metadata": {},
     "output_type": "execute_result"
    }
   ],
   "source": [
    "df.start_time.dt.hour\n"
   ]
  },
  {
   "cell_type": "code",
   "execution_count": 24,
   "id": "ba70e83d",
   "metadata": {},
   "outputs": [
    {
     "data": {
      "text/plain": [
       "17    220358\n",
       "16    218385\n",
       "15    214264\n",
       "14    191480\n",
       "18    168982\n",
       "Name: Start_Time, dtype: int64"
      ]
     },
     "execution_count": 24,
     "metadata": {},
     "output_type": "execute_result"
    }
   ],
   "source": [
    "df.start_time.dt.hour.value_counts().sort_values(ascending=False).head(5)"
   ]
  },
  {
   "cell_type": "markdown",
   "id": "a5044def",
   "metadata": {},
   "source": [
    "HIGHEST_START_TIME - 17(5PM)\n",
    "\n",
    "HIGHEST_ACCIDENTS_RECORDED - 220358"
   ]
  },
  {
   "cell_type": "code",
   "execution_count": 25,
   "id": "fd6d2b45",
   "metadata": {
    "scrolled": true
   },
   "outputs": [
    {
     "data": {
      "text/plain": [
       "<function matplotlib.pyplot.show(close=None, block=None)>"
      ]
     },
     "execution_count": 25,
     "metadata": {},
     "output_type": "execute_result"
    },
    {
     "data": {
      "image/png": "[encoded data removed]",
      "text/plain": [
       "<Figure size 720x360 with 1 Axes>"
      ]
     },
     "metadata": {
      "needs_background": "light"
     },
     "output_type": "display_data"
    }
   ],
   "source": [
    "plt.figure(figsize=(10,5))\n",
    "sns.histplot(df.start_time.dt.hour,bins=24)\n",
    "plt.title('HOURLY NUMBER OF ACCIDENTS(START_TIME)',fontsize=20)\n",
    "plt.ylabel('COUNT', fontsize=15)\n",
    "plt.xlabel('HOUR', fontsize=15)\n",
    "plt.show"
   ]
  },
  {
   "cell_type": "markdown",
   "id": "70213d66",
   "metadata": {},
   "source": [
    "               Start_time of accidents in between 3PM to 5PM"
   ]
  },
  {
   "cell_type": "markdown",
   "id": "03f03a13",
   "metadata": {},
   "source": [
    "### #ACCIDENT END TIME HOUR ANALYSIS"
   ]
  },
  {
   "cell_type": "code",
   "execution_count": 26,
   "id": "f8d16ad1",
   "metadata": {},
   "outputs": [
    {
     "name": "stderr",
     "output_type": "stream",
     "text": [
      "C:\\Users\\Bharti\\AppData\\Local\\Temp\\ipykernel_8764\\3873525793.py:1: UserWarning: Pandas doesn't allow columns to be created via a new attribute name - see https://pandas.pydata.org/pandas-docs/stable/indexing.html#attribute-access\n",
      "  df.End_time=pd.to_datetime(df.End_Time)\n"
     ]
    },
    {
     "data": {
      "text/plain": [
       "0           6\n",
       "1          11\n",
       "2          12\n",
       "3          12\n",
       "4          13\n",
       "           ..\n",
       "2845337    18\n",
       "2845338    19\n",
       "2845339    19\n",
       "2845340    19\n",
       "2845341    19\n",
       "Name: End_Time, Length: 2845342, dtype: int64"
      ]
     },
     "execution_count": 26,
     "metadata": {},
     "output_type": "execute_result"
    }
   ],
   "source": [
    "df.End_time=pd.to_datetime(df.End_Time)\n",
    "df.End_time.dt.hour"
   ]
  },
  {
   "cell_type": "code",
   "execution_count": 27,
   "id": "2d6b6c3f",
   "metadata": {},
   "outputs": [
    {
     "data": {
      "text/plain": [
       "18    223635\n",
       "17    214071\n",
       "19    192132\n",
       "16    188851\n",
       "15    162249\n",
       "20    150224\n",
       "14    143896\n",
       "13    127478\n",
       "21    124893\n",
       "22    116822\n",
       "23    111530\n",
       "12    107124\n",
       "9     106745\n",
       "0     105140\n",
       "8      99279\n",
       "10     96070\n",
       "11     93334\n",
       "1      90309\n",
       "2      79928\n",
       "7      73832\n",
       "Name: End_Time, dtype: int64"
      ]
     },
     "execution_count": 27,
     "metadata": {},
     "output_type": "execute_result"
    }
   ],
   "source": [
    "df.End_time.dt.hour.value_counts().sort_values(ascending=False).head(20)"
   ]
  },
  {
   "cell_type": "markdown",
   "id": "d951a889",
   "metadata": {},
   "source": [
    "HIGHEST_END_HOUR -  18(6PM)\n",
    "\n",
    "HIGHEST_ACCIDENTS_RECORDED -  223635\n"
   ]
  },
  {
   "cell_type": "code",
   "execution_count": 28,
   "id": "6b99d06a",
   "metadata": {},
   "outputs": [
    {
     "data": {
      "text/plain": [
       "<function matplotlib.pyplot.show(close=None, block=None)>"
      ]
     },
     "execution_count": 28,
     "metadata": {},
     "output_type": "execute_result"
    },
    {
     "data": {
      "image/png": "[encoded data removed]",
      "text/plain": [
       "<Figure size 720x360 with 1 Axes>"
      ]
     },
     "metadata": {
      "needs_background": "light"
     },
     "output_type": "display_data"
    }
   ],
   "source": [
    "plt.figure(figsize=(10,5))\n",
    "sns.histplot(df.End_time.dt.hour,bins=24)\n",
    "plt.title('HOURLY NUMBER OF ACCIDENTS(END_TIME)',fontsize=20)\n",
    "plt.ylabel('COUNT', fontsize=15)\n",
    "plt.xlabel('HOUR', fontsize=15)\n",
    "plt.show"
   ]
  },
  {
   "cell_type": "markdown",
   "id": "66c23565",
   "metadata": {},
   "source": [
    "        End_Time accidents in between 4Pm to 6PM"
   ]
  },
  {
   "cell_type": "markdown",
   "id": "b7d3b9ce",
   "metadata": {},
   "source": [
    "# TIME BETWEEN HIGHEST NUMBER OF ACCIDENTS OCCUR"
   ]
  },
  {
   "cell_type": "markdown",
   "id": "d5cc685b",
   "metadata": {},
   "source": [
    "Hourly analysis of accidents i found that start_time of accident highest record time is 17(means evening 5PM) and total count recorded 220358 and end_time highest record time is 18 (means evening 6PM) and total count recorded 223635.\n",
    "\n",
    "conclusion: Time Range is 17-18 means 5PM to 6PM highest accidents recorded.\n",
    "\n",
    " #Distribution time and accident\n",
    "  \n",
    "  Start_time 3PM to 6PM \n",
    "  End_time   4PM to 6PM\n",
    " Majority of accidents in between 3PM and 6PM\n",
    "           "
   ]
  },
  {
   "cell_type": "markdown",
   "id": "52bb86a5",
   "metadata": {},
   "source": [
    "# ACCIDENTS ANALYSIS(DAYWISE,WEEKDAY)"
   ]
  },
  {
   "cell_type": "code",
   "execution_count": 29,
   "id": "004638db",
   "metadata": {},
   "outputs": [],
   "source": [
    "import pandas as pd"
   ]
  },
  {
   "cell_type": "code",
   "execution_count": 30,
   "id": "6a52c1d1",
   "metadata": {},
   "outputs": [
    {
     "data": {
      "text/plain": [
       "0         2016-02-08 00:37:08\n",
       "1         2016-02-08 05:56:20\n",
       "2         2016-02-08 06:15:39\n",
       "3         2016-02-08 06:51:45\n",
       "4         2016-02-08 07:53:43\n",
       "                  ...        \n",
       "2845337   2019-08-23 18:03:25\n",
       "2845338   2019-08-23 19:11:30\n",
       "2845339   2019-08-23 19:00:21\n",
       "2845340   2019-08-23 19:00:21\n",
       "2845341   2019-08-23 18:52:06\n",
       "Name: Start_Time, Length: 2845342, dtype: datetime64[ns]"
      ]
     },
     "execution_count": 30,
     "metadata": {},
     "output_type": "execute_result"
    }
   ],
   "source": [
    "import datetime as dt\n",
    "df.start_time=pd.to_datetime(df.Start_Time)\n",
    "df.start_time"
   ]
  },
  {
   "cell_type": "code",
   "execution_count": 31,
   "id": "1740fef8",
   "metadata": {},
   "outputs": [
    {
     "data": {
      "text/html": [
       "<div>\n",
       "<style scoped>\n",
       "    .dataframe tbody tr th:only-of-type {\n",
       "        vertical-align: middle;\n",
       "    }\n",
       "\n",
       "    .dataframe tbody tr th {\n",
       "        vertical-align: top;\n",
       "    }\n",
       "\n",
       "    .dataframe thead th {\n",
       "        text-align: right;\n",
       "    }\n",
       "</style>\n",
       "<table border=\"1\" class=\"dataframe\">\n",
       "  <thead>\n",
       "    <tr style=\"text-align: right;\">\n",
       "      <th></th>\n",
       "      <th>Start_Time</th>\n",
       "    </tr>\n",
       "  </thead>\n",
       "  <tbody>\n",
       "    <tr>\n",
       "      <th>0</th>\n",
       "      <td>2016-02-08 00:37:08</td>\n",
       "    </tr>\n",
       "    <tr>\n",
       "      <th>1</th>\n",
       "      <td>2016-02-08 05:56:20</td>\n",
       "    </tr>\n",
       "    <tr>\n",
       "      <th>2</th>\n",
       "      <td>2016-02-08 06:15:39</td>\n",
       "    </tr>\n",
       "    <tr>\n",
       "      <th>3</th>\n",
       "      <td>2016-02-08 06:51:45</td>\n",
       "    </tr>\n",
       "    <tr>\n",
       "      <th>4</th>\n",
       "      <td>2016-02-08 07:53:43</td>\n",
       "    </tr>\n",
       "    <tr>\n",
       "      <th>...</th>\n",
       "      <td>...</td>\n",
       "    </tr>\n",
       "    <tr>\n",
       "      <th>2845337</th>\n",
       "      <td>2019-08-23 18:03:25</td>\n",
       "    </tr>\n",
       "    <tr>\n",
       "      <th>2845338</th>\n",
       "      <td>2019-08-23 19:11:30</td>\n",
       "    </tr>\n",
       "    <tr>\n",
       "      <th>2845339</th>\n",
       "      <td>2019-08-23 19:00:21</td>\n",
       "    </tr>\n",
       "    <tr>\n",
       "      <th>2845340</th>\n",
       "      <td>2019-08-23 19:00:21</td>\n",
       "    </tr>\n",
       "    <tr>\n",
       "      <th>2845341</th>\n",
       "      <td>2019-08-23 18:52:06</td>\n",
       "    </tr>\n",
       "  </tbody>\n",
       "</table>\n",
       "<p>2845342 rows × 1 columns</p>\n",
       "</div>"
      ],
      "text/plain": [
       "                  Start_Time\n",
       "0        2016-02-08 00:37:08\n",
       "1        2016-02-08 05:56:20\n",
       "2        2016-02-08 06:15:39\n",
       "3        2016-02-08 06:51:45\n",
       "4        2016-02-08 07:53:43\n",
       "...                      ...\n",
       "2845337  2019-08-23 18:03:25\n",
       "2845338  2019-08-23 19:11:30\n",
       "2845339  2019-08-23 19:00:21\n",
       "2845340  2019-08-23 19:00:21\n",
       "2845341  2019-08-23 18:52:06\n",
       "\n",
       "[2845342 rows x 1 columns]"
      ]
     },
     "execution_count": 31,
     "metadata": {},
     "output_type": "execute_result"
    }
   ],
   "source": [
    "df1 = df[[\"Start_Time\"]].copy()\n",
    "df1"
   ]
  },
  {
   "cell_type": "code",
   "execution_count": 32,
   "id": "539c0c05",
   "metadata": {},
   "outputs": [
    {
     "data": {
      "text/html": [
       "<div>\n",
       "<style scoped>\n",
       "    .dataframe tbody tr th:only-of-type {\n",
       "        vertical-align: middle;\n",
       "    }\n",
       "\n",
       "    .dataframe tbody tr th {\n",
       "        vertical-align: top;\n",
       "    }\n",
       "\n",
       "    .dataframe thead th {\n",
       "        text-align: right;\n",
       "    }\n",
       "</style>\n",
       "<table border=\"1\" class=\"dataframe\">\n",
       "  <thead>\n",
       "    <tr style=\"text-align: right;\">\n",
       "      <th></th>\n",
       "      <th>Start_Time</th>\n",
       "      <th>Day</th>\n",
       "      <th>WeekDay</th>\n",
       "    </tr>\n",
       "  </thead>\n",
       "  <tbody>\n",
       "    <tr>\n",
       "      <th>0</th>\n",
       "      <td>2016-02-08 00:37:08</td>\n",
       "      <td>8</td>\n",
       "      <td>0</td>\n",
       "    </tr>\n",
       "    <tr>\n",
       "      <th>1</th>\n",
       "      <td>2016-02-08 05:56:20</td>\n",
       "      <td>8</td>\n",
       "      <td>0</td>\n",
       "    </tr>\n",
       "    <tr>\n",
       "      <th>2</th>\n",
       "      <td>2016-02-08 06:15:39</td>\n",
       "      <td>8</td>\n",
       "      <td>0</td>\n",
       "    </tr>\n",
       "    <tr>\n",
       "      <th>3</th>\n",
       "      <td>2016-02-08 06:51:45</td>\n",
       "      <td>8</td>\n",
       "      <td>0</td>\n",
       "    </tr>\n",
       "    <tr>\n",
       "      <th>4</th>\n",
       "      <td>2016-02-08 07:53:43</td>\n",
       "      <td>8</td>\n",
       "      <td>0</td>\n",
       "    </tr>\n",
       "    <tr>\n",
       "      <th>...</th>\n",
       "      <td>...</td>\n",
       "      <td>...</td>\n",
       "      <td>...</td>\n",
       "    </tr>\n",
       "    <tr>\n",
       "      <th>2845337</th>\n",
       "      <td>2019-08-23 18:03:25</td>\n",
       "      <td>23</td>\n",
       "      <td>4</td>\n",
       "    </tr>\n",
       "    <tr>\n",
       "      <th>2845338</th>\n",
       "      <td>2019-08-23 19:11:30</td>\n",
       "      <td>23</td>\n",
       "      <td>4</td>\n",
       "    </tr>\n",
       "    <tr>\n",
       "      <th>2845339</th>\n",
       "      <td>2019-08-23 19:00:21</td>\n",
       "      <td>23</td>\n",
       "      <td>4</td>\n",
       "    </tr>\n",
       "    <tr>\n",
       "      <th>2845340</th>\n",
       "      <td>2019-08-23 19:00:21</td>\n",
       "      <td>23</td>\n",
       "      <td>4</td>\n",
       "    </tr>\n",
       "    <tr>\n",
       "      <th>2845341</th>\n",
       "      <td>2019-08-23 18:52:06</td>\n",
       "      <td>23</td>\n",
       "      <td>4</td>\n",
       "    </tr>\n",
       "  </tbody>\n",
       "</table>\n",
       "<p>2845342 rows × 3 columns</p>\n",
       "</div>"
      ],
      "text/plain": [
       "                  Start_Time  Day  WeekDay\n",
       "0        2016-02-08 00:37:08    8        0\n",
       "1        2016-02-08 05:56:20    8        0\n",
       "2        2016-02-08 06:15:39    8        0\n",
       "3        2016-02-08 06:51:45    8        0\n",
       "4        2016-02-08 07:53:43    8        0\n",
       "...                      ...  ...      ...\n",
       "2845337  2019-08-23 18:03:25   23        4\n",
       "2845338  2019-08-23 19:11:30   23        4\n",
       "2845339  2019-08-23 19:00:21   23        4\n",
       "2845340  2019-08-23 19:00:21   23        4\n",
       "2845341  2019-08-23 18:52:06   23        4\n",
       "\n",
       "[2845342 rows x 3 columns]"
      ]
     },
     "execution_count": 32,
     "metadata": {},
     "output_type": "execute_result"
    }
   ],
   "source": [
    "df1[\"Day\"] = df.start_time.dt.day\n",
    "df1[\"WeekDay\"] = df.start_time.dt.weekday\n",
    "df1"
   ]
  },
  {
   "cell_type": "markdown",
   "id": "ce5160c0",
   "metadata": {},
   "source": [
    "# DAYWISE ACCIDENTS ANALYSIS"
   ]
  },
  {
   "cell_type": "code",
   "execution_count": 33,
   "id": "ac356519",
   "metadata": {},
   "outputs": [
    {
     "data": {
      "text/plain": [
       "23    106831\n",
       "22    103229\n",
       "18     98804\n",
       "30     98654\n",
       "19     98386\n",
       "24     97655\n",
       "12     96024\n",
       "20     95913\n",
       "10     95727\n",
       "16     94945\n",
       "21     94656\n",
       "11     94207\n",
       "8      93956\n",
       "27     93680\n",
       "17     93487\n",
       "15     93074\n",
       "7      92982\n",
       "28     92694\n",
       "29     92676\n",
       "6      92308\n",
       "9      91779\n",
       "26     91741\n",
       "13     91570\n",
       "14     88340\n",
       "5      87969\n",
       "25     85901\n",
       "3      85070\n",
       "4      83763\n",
       "1      82885\n",
       "2      82479\n",
       "31     53957\n",
       "Name: Day, dtype: int64"
      ]
     },
     "execution_count": 33,
     "metadata": {},
     "output_type": "execute_result"
    }
   ],
   "source": [
    "df1.Day.value_counts().sort_values(ascending=False)"
   ]
  },
  {
   "cell_type": "code",
   "execution_count": 34,
   "id": "3e591807",
   "metadata": {},
   "outputs": [
    {
     "data": {
      "text/plain": [
       "Text(0, 0.5, 'COUNT')"
      ]
     },
     "execution_count": 34,
     "metadata": {},
     "output_type": "execute_result"
    },
    {
     "data": {
      "image/png": "[encoded data removed]",
      "text/plain": [
       "<Figure size 720x504 with 1 Axes>"
      ]
     },
     "metadata": {
      "needs_background": "light"
     },
     "output_type": "display_data"
    }
   ],
   "source": [
    "plt.figure(figsize=(10,7))\n",
    "sns.countplot(x=df1.Day)\n",
    "plt.title(\"NUMBER OF ACCIDENTS PER DAY\", fontsize=20)\n",
    "plt.xlabel(\"DAYWISE\",fontsize=15)\n",
    "plt.ylabel(\"COUNT\",fontsize=15)"
   ]
  },
  {
   "cell_type": "markdown",
   "id": "93945c7c",
   "metadata": {},
   "source": [
    "# WEEK DAYS ACCIDENTS ANALYSIS"
   ]
  },
  {
   "cell_type": "code",
   "execution_count": 35,
   "id": "3346e69e",
   "metadata": {
    "scrolled": false
   },
   "outputs": [
    {
     "data": {
      "text/plain": [
       "4    492074\n",
       "3    463477\n",
       "2    455037\n",
       "1    443968\n",
       "0    419821\n",
       "5    311691\n",
       "6    259274\n",
       "Name: WeekDay, dtype: int64"
      ]
     },
     "execution_count": 35,
     "metadata": {},
     "output_type": "execute_result"
    }
   ],
   "source": [
    "df1.WeekDay.value_counts().sort_values(ascending=False)\n",
    " "
   ]
  },
  {
   "cell_type": "code",
   "execution_count": 36,
   "id": "5d748418",
   "metadata": {},
   "outputs": [],
   "source": [
    "df1.WeekDay.replace([0,1,2,3,4,5,6],[\"Monday\",\"Tuesday\",\"Wednesday\",\"Thursday\",\"Friday\",\"Saturday\",\"Sunday\"],inplace=True)"
   ]
  },
  {
   "cell_type": "code",
   "execution_count": 37,
   "id": "743e1917",
   "metadata": {},
   "outputs": [
    {
     "data": {
      "text/plain": [
       "Text(0, 0.5, 'COUNT')"
      ]
     },
     "execution_count": 37,
     "metadata": {},
     "output_type": "execute_result"
    },
    {
     "data": {
      "image/png": "[encoded data removed]",
      "text/plain": [
       "<Figure size 720x504 with 1 Axes>"
      ]
     },
     "metadata": {
      "needs_background": "light"
     },
     "output_type": "display_data"
    }
   ],
   "source": [
    "plt.figure(figsize=(10,7))\n",
    "sns.countplot(x=df1.WeekDay,order=[\"Monday\",\"Tuesday\",\"Wednesday\",\"Thursday\",\"Friday\",\"Saturday\",\"Sunday\"])\n",
    "plt.title(\"NUMBER OF ACCIDENTS PER WEEK\", fontsize=20)\n",
    "plt.xlabel(\"WEEKDAY\",fontsize=15)\n",
    "plt.ylabel(\"COUNT\",fontsize=15)"
   ]
  },
  {
   "cell_type": "markdown",
   "id": "2da6f071",
   "metadata": {},
   "source": [
    "##Which days of the week have the most accident?\n",
    "\n",
    " Friday have most accidents recorded."
   ]
  },
  {
   "cell_type": "markdown",
   "id": "ec5477bc",
   "metadata": {},
   "source": [
    "# Statewise Accident Analysis(Per Capita)"
   ]
  },
  {
   "cell_type": "code",
   "execution_count": 38,
   "id": "ea8e2f12",
   "metadata": {},
   "outputs": [
    {
     "data": {
      "text/plain": [
       "CA    795868\n",
       "FL    401388\n",
       "TX    149037\n",
       "OR    126341\n",
       "VA    113535\n",
       "NY    108049\n",
       "PA     99975\n",
       "MN     97185\n",
       "NC     91362\n",
       "SC     89216\n",
       "MD     65085\n",
       "AZ     56504\n",
       "NJ     52902\n",
       "TN     52613\n",
       "UT     49193\n",
       "LA     47232\n",
       "IL     47105\n",
       "MI     43843\n",
       "GA     40086\n",
       "WA     32554\n",
       "CT     29762\n",
       "MO     29633\n",
       "CO     25340\n",
       "OH     24409\n",
       "IN     20850\n",
       "AL     19322\n",
       "MT     15964\n",
       "AR     10935\n",
       "IA      9607\n",
       "DC      9133\n",
       "KS      9033\n",
       "OK      8806\n",
       "ID      8544\n",
       "WI      7896\n",
       "WV      7632\n",
       "KY      6638\n",
       "MA      6392\n",
       "NV      6197\n",
       "MS      5320\n",
       "DE      4842\n",
       "RI      4451\n",
       "NH      3866\n",
       "NE      3320\n",
       "NM      2370\n",
       "ND      2258\n",
       "ME      2193\n",
       "WY       990\n",
       "VT       365\n",
       "SD       201\n",
       "Name: State, dtype: int64"
      ]
     },
     "execution_count": 38,
     "metadata": {},
     "output_type": "execute_result"
    }
   ],
   "source": [
    "State_accident_counts=df['State'].value_counts()\n",
    "State_accident_counts"
   ]
  },
  {
   "cell_type": "markdown",
   "id": "21d5c362",
   "metadata": {},
   "source": [
    "# 5 states have the highest number of accidents"
   ]
  },
  {
   "cell_type": "code",
   "execution_count": 39,
   "id": "482eb91d",
   "metadata": {},
   "outputs": [
    {
     "data": {
      "text/plain": [
       "CA    795868\n",
       "FL    401388\n",
       "TX    149037\n",
       "OR    126341\n",
       "VA    113535\n",
       "Name: State, dtype: int64"
      ]
     },
     "execution_count": 39,
     "metadata": {},
     "output_type": "execute_result"
    }
   ],
   "source": [
    "State_accident_counts=df['State'].value_counts().sort_values(ascending=False).iloc[:5]\n",
    "State_accident_counts"
   ]
  },
  {
   "cell_type": "markdown",
   "id": "07e89407",
   "metadata": {},
   "source": [
    "# Does New york show up in the data ?If yes,why is the count lower if this the most populated city."
   ]
  },
  {
   "cell_type": "code",
   "execution_count": 40,
   "id": "1a6d49cf",
   "metadata": {},
   "outputs": [
    {
     "data": {
      "text/plain": [
       "(108049, 42)"
      ]
     },
     "execution_count": 40,
     "metadata": {},
     "output_type": "execute_result"
    }
   ],
   "source": [
    "NewYork_state=df.query('State==\"NY\"')\n",
    "NewYork_state.shape\n"
   ]
  },
  {
   "cell_type": "markdown",
   "id": "535bb4bf",
   "metadata": {},
   "source": [
    "Yes,New York state present in dataset.Count of accidents is little lower it comes statewise 6 th place ."
   ]
  },
  {
   "cell_type": "markdown",
   "id": "7be5f8fa",
   "metadata": {},
   "source": [
    "# #Which month have the most accidents?"
   ]
  },
  {
   "cell_type": "markdown",
   "id": "f682f40e",
   "metadata": {},
   "source": [
    "# Monthwise analysis"
   ]
  },
  {
   "cell_type": "code",
   "execution_count": 41,
   "id": "d413b0e5",
   "metadata": {},
   "outputs": [
    {
     "data": {
      "text/plain": [
       "12    473943\n",
       "11    360696\n",
       "10    299131\n",
       "9     241822\n",
       "6     226561\n",
       "1     198365\n",
       "2     194995\n",
       "5     181944\n",
       "8     178670\n",
       "4     171880\n",
       "7     159111\n",
       "3     158224\n",
       "Name: Start_Time, dtype: int64"
      ]
     },
     "execution_count": 41,
     "metadata": {},
     "output_type": "execute_result"
    }
   ],
   "source": [
    "No_Of_Accident_permonth=df.start_time.dt.month.value_counts().sort_values(ascending=False)\n",
    "No_Of_Accident_permonth"
   ]
  },
  {
   "cell_type": "code",
   "execution_count": 42,
   "id": "22063b38",
   "metadata": {},
   "outputs": [
    {
     "data": {
      "text/plain": [
       "<function matplotlib.pyplot.show(close=None, block=None)>"
      ]
     },
     "execution_count": 42,
     "metadata": {},
     "output_type": "execute_result"
    },
    {
     "data": {
      "image/png": "[encoded data removed]",
      "text/plain": [
       "<Figure size 720x360 with 1 Axes>"
      ]
     },
     "metadata": {
      "needs_background": "light"
     },
     "output_type": "display_data"
    }
   ],
   "source": [
    "plt.figure(figsize=(10,5))\n",
    "sns.barplot(x=No_Of_Accident_permonth.index,y=No_Of_Accident_permonth.values)\n",
    "plt.title(\"No of accidents per month\",fontsize=20)\n",
    "plt.ylabel(\"Counts\",fontsize=15)\n",
    "plt.xlabel(\"No of month\",fontsize=15)\n",
    "\n",
    "plt.show"
   ]
  },
  {
   "cell_type": "markdown",
   "id": "87c679e0",
   "metadata": {},
   "source": [
    "                  December month have most accidents recorded .\n",
    "                  \n",
    "                  December is a month which have several holidays and celebration like Christmas and New Year's Eve.\n",
    "                  \n",
    "                  Lots of people take some time off in this time and lots of traffic around the holidays.\n",
    "                  \n",
    "                  Higher traffic may be big factor for higher accidents.\n",
    "\n"
   ]
  },
  {
   "cell_type": "markdown",
   "id": "45fc5a38",
   "metadata": {},
   "source": [
    "# #Month_wise trend accident of accidents?"
   ]
  },
  {
   "cell_type": "markdown",
   "id": "df825f73",
   "metadata": {},
   "source": [
    "       monthwise accidents trend is increasing order"
   ]
  },
  {
   "cell_type": "markdown",
   "id": "6e861523",
   "metadata": {},
   "source": [
    "# #What is the trend of accidents year over year(decreasing/increasing?)"
   ]
  },
  {
   "cell_type": "markdown",
   "id": "7a75dba2",
   "metadata": {},
   "source": [
    "# Yearly Accidents Analysis"
   ]
  },
  {
   "cell_type": "code",
   "execution_count": 43,
   "id": "58c8086e",
   "metadata": {},
   "outputs": [
    {
     "data": {
      "text/plain": [
       "2021    1511745\n",
       "2020     625864\n",
       "2019     258615\n",
       "2017     163918\n",
       "2018     163176\n",
       "2016     122024\n",
       "Name: Start_Time, dtype: int64"
      ]
     },
     "execution_count": 43,
     "metadata": {},
     "output_type": "execute_result"
    }
   ],
   "source": [
    "No_Of_Accident_peryear=df.start_time.dt.year.value_counts().sort_values(ascending=False)\n",
    "No_Of_Accident_peryear"
   ]
  },
  {
   "cell_type": "code",
   "execution_count": 44,
   "id": "e7d0065a",
   "metadata": {
    "scrolled": true
   },
   "outputs": [
    {
     "data": {
      "text/plain": [
       "<function matplotlib.pyplot.show(close=None, block=None)>"
      ]
     },
     "execution_count": 44,
     "metadata": {},
     "output_type": "execute_result"
    },
    {
     "data": {
      "image/png": "[encoded data removed]",
      "text/plain": [
       "<Figure size 1080x360 with 1 Axes>"
      ]
     },
     "metadata": {
      "needs_background": "light"
     },
     "output_type": "display_data"
    }
   ],
   "source": [
    "plt.figure(figsize=(15,5))\n",
    "sns.barplot(x=No_Of_Accident_peryear.index,y=No_Of_Accident_peryear.values)\n",
    "plt.title(\"No of Accidents per year\",fontsize=20)\n",
    "plt.xlabel(\"No of year\",fontsize=15)\n",
    "plt.ylabel(\"Counts\",fontsize=15)\n",
    "plt.show"
   ]
  },
  {
   "cell_type": "markdown",
   "id": "c24d14d8",
   "metadata": {},
   "source": [
    "                        In 2021 highest no of  Accidents recorded"
   ]
  },
  {
   "cell_type": "markdown",
   "id": "a82afb02",
   "metadata": {},
   "source": [
    "            conclusion:Trend of Accidents is increasing year over year"
   ]
  },
  {
   "cell_type": "markdown",
   "id": "eda117fe",
   "metadata": {},
   "source": [
    "# Temperature which cause maximum Accidents Analysis"
   ]
  },
  {
   "cell_type": "code",
   "execution_count": 45,
   "id": "61401342",
   "metadata": {},
   "outputs": [],
   "source": [
    "import pandas as pd\n",
    "df=pd.read_csv(r\"C:\\Users\\Bharti\\US_Accidents_Dec21_updated.csv\")\n"
   ]
  },
  {
   "cell_type": "code",
   "execution_count": 46,
   "id": "49040b4e",
   "metadata": {},
   "outputs": [
    {
     "data": {
      "text/plain": [
       "69274"
      ]
     },
     "execution_count": 46,
     "metadata": {},
     "output_type": "execute_result"
    }
   ],
   "source": [
    "df[\"Temperature(F)\"].isnull().sum()"
   ]
  },
  {
   "cell_type": "code",
   "execution_count": 47,
   "id": "6f2d3fc9",
   "metadata": {},
   "outputs": [
    {
     "data": {
      "text/plain": [
       "0          42.1\n",
       "1          36.9\n",
       "2          36.0\n",
       "3          39.0\n",
       "4          37.0\n",
       "           ... \n",
       "2845337    86.0\n",
       "2845338    70.0\n",
       "2845339    73.0\n",
       "2845340    71.0\n",
       "2845341    79.0\n",
       "Name: Temperature(F), Length: 2845342, dtype: float64"
      ]
     },
     "execution_count": 47,
     "metadata": {},
     "output_type": "execute_result"
    }
   ],
   "source": [
    "df[\"Temperature(F)\"]=df[\"Temperature(F)\"].fillna(df[\"Temperature(F)\"].median())\n",
    "df[\"Temperature(F)\"]"
   ]
  },
  {
   "cell_type": "code",
   "execution_count": 48,
   "id": "ef71259e",
   "metadata": {},
   "outputs": [
    {
     "data": {
      "text/plain": [
       "0"
      ]
     },
     "execution_count": 48,
     "metadata": {},
     "output_type": "execute_result"
    }
   ],
   "source": [
    "df[\"Temperature(F)\"].isnull().sum()"
   ]
  },
  {
   "cell_type": "code",
   "execution_count": 49,
   "id": "fee56419",
   "metadata": {},
   "outputs": [
    {
     "data": {
      "text/plain": [
       " 64.0     127211\n",
       " 73.0      64505\n",
       " 77.0      63575\n",
       " 75.0      60534\n",
       " 72.0      59681\n",
       "           ...  \n",
       "-2.4           1\n",
       " 168.8         1\n",
       "-1.5           1\n",
       "-12.1          1\n",
       " 99.1          1\n",
       "Name: Temperature(F), Length: 788, dtype: int64"
      ]
     },
     "execution_count": 49,
     "metadata": {},
     "output_type": "execute_result"
    }
   ],
   "source": [
    "df[\"Temperature(F)\"].value_counts().sort_values(ascending=False )\n"
   ]
  },
  {
   "cell_type": "code",
   "execution_count": 50,
   "id": "e174767d",
   "metadata": {},
   "outputs": [
    {
     "data": {
      "text/plain": [
       "64.0    127211\n",
       "73.0     64505\n",
       "77.0     63575\n",
       "75.0     60534\n",
       "72.0     59681\n",
       "68.0     58557\n",
       "63.0     58259\n",
       "70.0     57760\n",
       "66.0     56336\n",
       "59.0     56025\n",
       "79.0     55673\n",
       "61.0     54665\n",
       "57.0     54071\n",
       "54.0     53802\n",
       "50.0     52562\n",
       "55.0     50800\n",
       "81.0     50612\n",
       "52.0     48536\n",
       "82.0     47973\n",
       "76.0     43048\n",
       "Name: Temperature(F), dtype: int64"
      ]
     },
     "execution_count": 50,
     "metadata": {},
     "output_type": "execute_result"
    }
   ],
   "source": [
    "df[\"Temperature(F)\"].value_counts().sort_values(ascending=False ).iloc[:20]"
   ]
  },
  {
   "cell_type": "code",
   "execution_count": 51,
   "id": "e3658b5f",
   "metadata": {},
   "outputs": [
    {
     "data": {
      "text/plain": [
       "Text(0.5, 1.0, 'Top 20 Temperatures(F) which causes Maximum Accidents')"
      ]
     },
     "execution_count": 51,
     "metadata": {},
     "output_type": "execute_result"
    },
    {
     "data": {
      "image/png": "[encoded data removed]",
      "text/plain": [
       "<Figure size 1080x360 with 1 Axes>"
      ]
     },
     "metadata": {
      "needs_background": "light"
     },
     "output_type": "display_data"
    }
   ],
   "source": [
    "import matplotlib.pyplot as plt\n",
    "import seaborn as sns\n",
    "plt.figure(figsize=(15,5))\n",
    "sns.barplot(x=df[\"Temperature(F)\"].value_counts().index[:20],y=df[\"Temperature(F)\"].value_counts().values[:20],\n",
    "           order=df[\"Temperature(F)\"].value_counts().index[:20])\n",
    "plt.xlabel(\"Temperature\",fontsize=15)\n",
    "plt.ylabel(\"Counts\",fontsize=15)\n",
    "plt.title(\"Top 20 Temperatures(F) which causes Maximum Accidents\",fontsize=20)"
   ]
  },
  {
   "cell_type": "markdown",
   "id": "2bad2da5",
   "metadata": {},
   "source": [
    "The highest number of accidents is seen when the temperature is 64F.\n",
    "\n",
    "One explanation for this may be that there are more people going out when \n",
    "\n",
    "the weather is mild or warm . "
   ]
  },
  {
   "cell_type": "markdown",
   "id": "fe25d1bf",
   "metadata": {},
   "source": [
    "#        #            Accidents due to Weather Condition Analysis"
   ]
  },
  {
   "cell_type": "code",
   "execution_count": 52,
   "id": "330e8ec1",
   "metadata": {},
   "outputs": [
    {
     "data": {
      "text/plain": [
       "2.4825135256148467"
      ]
     },
     "execution_count": 52,
     "metadata": {},
     "output_type": "execute_result"
    }
   ],
   "source": [
    "(df[\"Weather_Condition\"].isnull().sum()/len(df))*100\n"
   ]
  },
  {
   "cell_type": "markdown",
   "id": "b51d0993",
   "metadata": {},
   "source": [
    "null values is only 2 percent we can delete."
   ]
  },
  {
   "cell_type": "code",
   "execution_count": 53,
   "id": "51f0ebc6",
   "metadata": {},
   "outputs": [],
   "source": [
    "df.dropna(subset=\"Weather_Condition\",inplace=True)\n"
   ]
  },
  {
   "cell_type": "code",
   "execution_count": 54,
   "id": "6d7bafdc",
   "metadata": {},
   "outputs": [
    {
     "data": {
      "text/plain": [
       "0"
      ]
     },
     "execution_count": 54,
     "metadata": {},
     "output_type": "execute_result"
    }
   ],
   "source": [
    "df[\"Weather_Condition\"].isnull().sum()"
   ]
  },
  {
   "cell_type": "code",
   "execution_count": 55,
   "id": "182b803f",
   "metadata": {},
   "outputs": [
    {
     "data": {
      "text/plain": [
       "Fair                                   1107194\n",
       "Mostly Cloudy                           363959\n",
       "Cloudy                                  348767\n",
       "Partly Cloudy                           249939\n",
       "Clear                                   173823\n",
       "                                        ...   \n",
       "Heavy Rain Showers                           1\n",
       "Light Haze                                   1\n",
       "Heavy Thunderstorms with Small Hail          1\n",
       "Sand / Dust Whirlwinds / Windy               1\n",
       "Thunder and Hail / Windy                     1\n",
       "Name: Weather_Condition, Length: 127, dtype: int64"
      ]
     },
     "execution_count": 55,
     "metadata": {},
     "output_type": "execute_result"
    }
   ],
   "source": [
    "df[\"Weather_Condition\"].value_counts().sort_values(ascending=False)\n"
   ]
  },
  {
   "cell_type": "code",
   "execution_count": 56,
   "id": "db47d99c",
   "metadata": {},
   "outputs": [
    {
     "data": {
      "text/plain": [
       "Text(0.5, 0, 'Weather Condition')"
      ]
     },
     "execution_count": 56,
     "metadata": {},
     "output_type": "execute_result"
    },
    {
     "data": {
      "image/png": "[encoded data removed]",
      "text/plain": [
       "<Figure size 1080x432 with 1 Axes>"
      ]
     },
     "metadata": {
      "needs_background": "light"
     },
     "output_type": "display_data"
    }
   ],
   "source": [
    "plt.figure(figsize=(15,6))\n",
    "sns.barplot(x=df[\"Weather_Condition\"].value_counts().index[:15],y=df[\"Weather_Condition\"].value_counts().values[:15],order=df[\"Weather_Condition\"].value_counts().index[:15])\n",
    "plt.title(\"Accidents due to weather condition\",fontsize=20)\n",
    "plt.xlabel(\"Weather Condition\",fontsize=15)"
   ]
  },
  {
   "cell_type": "markdown",
   "id": "625bb528",
   "metadata": {},
   "source": [
    "       Maximum Accidents happened in Fair Weather"
   ]
  },
  {
   "cell_type": "markdown",
   "id": "66b37644",
   "metadata": {},
   "source": [
    "# Location at which Maximum Accident Happened"
   ]
  },
  {
   "cell_type": "code",
   "execution_count": 57,
   "id": "863e3576",
   "metadata": {},
   "outputs": [
    {
     "data": {
      "text/plain": [
       "0          40.108910\n",
       "1          39.865420\n",
       "2          39.102660\n",
       "3          41.062130\n",
       "4          39.172393\n",
       "             ...    \n",
       "2845337    34.002480\n",
       "2845338    32.766960\n",
       "2845339    33.775450\n",
       "2845340    33.992460\n",
       "2845341    34.133930\n",
       "Name: Start_Lat, Length: 2774706, dtype: float64"
      ]
     },
     "execution_count": 57,
     "metadata": {},
     "output_type": "execute_result"
    }
   ],
   "source": [
    "df[\"Start_Lat\"]"
   ]
  },
  {
   "cell_type": "code",
   "execution_count": 58,
   "id": "5f993275",
   "metadata": {},
   "outputs": [
    {
     "data": {
      "text/plain": [
       "144674    49.00058\n",
       "Name: Start_Lat, dtype: float64"
      ]
     },
     "execution_count": 58,
     "metadata": {},
     "output_type": "execute_result"
    }
   ],
   "source": [
    "df[\"Start_Lat\"].nlargest(1)"
   ]
  },
  {
   "cell_type": "code",
   "execution_count": 59,
   "id": "d1423838",
   "metadata": {},
   "outputs": [
    {
     "data": {
      "text/plain": [
       "0          -83.092860\n",
       "1          -84.062800\n",
       "2          -84.524680\n",
       "3          -81.537840\n",
       "4          -84.492792\n",
       "              ...    \n",
       "2845337   -117.379360\n",
       "2845338   -117.148060\n",
       "2845339   -117.847790\n",
       "2845340   -118.403020\n",
       "2845341   -117.230920\n",
       "Name: Start_Lng, Length: 2774706, dtype: float64"
      ]
     },
     "execution_count": 59,
     "metadata": {},
     "output_type": "execute_result"
    }
   ],
   "source": [
    "df[\"Start_Lng\"]"
   ]
  },
  {
   "cell_type": "code",
   "execution_count": 60,
   "id": "1bfae79a",
   "metadata": {},
   "outputs": [
    {
     "data": {
      "text/plain": [
       "149968   -67.113167\n",
       "Name: Start_Lng, dtype: float64"
      ]
     },
     "execution_count": 60,
     "metadata": {},
     "output_type": "execute_result"
    }
   ],
   "source": [
    "df[\"Start_Lng\"].nlargest(1)"
   ]
  },
  {
   "cell_type": "code",
   "execution_count": 61,
   "id": "75552b58",
   "metadata": {},
   "outputs": [
    {
     "data": {
      "text/plain": [
       "Start_Lat  Start_Lng    State\n",
       "25.702455  -80.332105   FL       348\n",
       "28.452192  -81.400388   FL       285\n",
       "28.449924  -81.479136   FL       268\n",
       "25.689146  -80.382872   FL       254\n",
       "40.853060  -73.960110   NJ       239\n",
       "                                ... \n",
       "35.111349  -80.926682   NC         1\n",
       "35.111351  -120.563588  CA         1\n",
       "35.111399  -80.909766   NC         1\n",
       "35.111402  -80.972640   NC         1\n",
       "49.000580  -116.181070  ID         1\n",
       "Name: State, Length: 1173291, dtype: int64"
      ]
     },
     "execution_count": 61,
     "metadata": {},
     "output_type": "execute_result"
    }
   ],
   "source": [
    "lat_lng = df.groupby([\"Start_Lat\",\"Start_Lng\"])[\"State\"].value_counts().sort_values(ascending=False)\n",
    "lat_lng"
   ]
  },
  {
   "cell_type": "code",
   "execution_count": 62,
   "id": "d8d22a80",
   "metadata": {},
   "outputs": [
    {
     "data": {
      "text/plain": [
       "Start_Lat  Start_Lng   State\n",
       "25.702455  -80.332105  FL       348\n",
       "Name: State, dtype: int64"
      ]
     },
     "execution_count": 62,
     "metadata": {},
     "output_type": "execute_result"
    }
   ],
   "source": [
    "lat_lng.nlargest(1)"
   ]
  },
  {
   "cell_type": "code",
   "execution_count": 63,
   "id": "5327a60e",
   "metadata": {},
   "outputs": [],
   "source": [
    "import folium\n",
    "from folium import plugins\n",
    "from folium.plugins import HeatMap"
   ]
  },
  {
   "cell_type": "code",
   "execution_count": 64,
   "id": "f54065fe",
   "metadata": {},
   "outputs": [],
   "source": [
    "sample_df = df.sample(int(0.001 * len(df)))\n",
    "lat_lon = list(zip(list(sample_df.Start_Lat),list(sample_df.Start_Lng)))"
   ]
  },
  {
   "cell_type": "code",
   "execution_count": 65,
   "id": "fd2c2e02",
   "metadata": {},
   "outputs": [
    {
     "data": {
      "text/html": [
       "<div style=\"width:100%;\"><div style=\"position:relative;width:100%;height:0;padding-bottom:60%;\"><span style=\"color:#565656\">Make this Notebook Trusted to load map: File -> Trust Notebook</span><iframe srcdoc=\"&lt;!DOCTYPE html&gt;\n",
       "&lt;head&gt;    \n",
       "    &lt;meta http-equiv=&quot;content-type&quot; content=&quot;text/html; charset=UTF-8&quot; /&gt;\n",
       "    \n",
       "        &lt;script&gt;\n",
       "            L_NO_TOUCH = false;\n",
       "            L_DISABLE_3D = false;\n",
       "        &lt;/script&gt;\n",
       "    \n",
       "    &lt;style&gt;html, body {width: 100%;height: 100%;margin: 0;padding: 0;}&lt;/style&gt;\n",
       "    &lt;style&gt;#map {position:absolute;top:0;bottom:0;right:0;left:0;}&lt;/style&gt;\n",
       "    &lt;script src=&quot;https://cdn.jsdelivr.net/npm/leaflet@1.6.0/dist/leaflet.js&quot;&gt;&lt;/script&gt;\n",
       "    &lt;script src=&quot;https://code.jquery.com/jquery-1.12.4.min.js&quot;&gt;&lt;/script&gt;\n",
       "    &lt;script src=&quot;https://maxcdn.bootstrapcdn.com/bootstrap/3.2.0/js/bootstrap.min.js&quot;&gt;&lt;/script&gt;\n",
       "    &lt;script src=&quot;https://cdnjs.cloudflare.com/ajax/libs/Leaflet.awesome-markers/2.0.2/leaflet.awesome-markers.js&quot;&gt;&lt;/script&gt;\n",
       "    &lt;link rel=&quot;stylesheet&quot; href=&quot;https://cdn.jsdelivr.net/npm/leaflet@1.6.0/dist/leaflet.css&quot;/&gt;\n",
       "    &lt;link rel=&quot;stylesheet&quot; href=&quot;https://maxcdn.bootstrapcdn.com/bootstrap/3.2.0/css/bootstrap.min.css&quot;/&gt;\n",
       "    &lt;link rel=&quot;stylesheet&quot; href=&quot;https://maxcdn.bootstrapcdn.com/bootstrap/3.2.0/css/bootstrap-theme.min.css&quot;/&gt;\n",
       "    &lt;link rel=&quot;stylesheet&quot; href=&quot;https://maxcdn.bootstrapcdn.com/font-awesome/4.6.3/css/font-awesome.min.css&quot;/&gt;\n",
       "    &lt;link rel=&quot;stylesheet&quot; href=&quot;https://cdnjs.cloudflare.com/ajax/libs/Leaflet.awesome-markers/2.0.2/leaflet.awesome-markers.css&quot;/&gt;\n",
       "    &lt;link rel=&quot;stylesheet&quot; href=&quot;https://cdn.jsdelivr.net/gh/python-visualization/folium/folium/templates/leaflet.awesome.rotate.min.css&quot;/&gt;\n",
       "    \n",
       "            &lt;meta name=&quot;viewport&quot; content=&quot;width=device-width,\n",
       "                initial-scale=1.0, maximum-scale=1.0, user-scalable=no&quot; /&gt;\n",
       "            &lt;style&gt;\n",
       "                #map_1ce08dc4680fe076ee9b206ca2cd3b74 {\n",
       "                    position: relative;\n",
       "                    width: 100.0%;\n",
       "                    height: 100.0%;\n",
       "                    left: 0.0%;\n",
       "                    top: 0.0%;\n",
       "                }\n",
       "            &lt;/style&gt;\n",
       "        \n",
       "    &lt;script src=&quot;https://cdn.jsdelivr.net/gh/python-visualization/folium@master/folium/templates/leaflet_heat.min.js&quot;&gt;&lt;/script&gt;\n",
       "&lt;/head&gt;\n",
       "&lt;body&gt;    \n",
       "    \n",
       "            &lt;div class=&quot;folium-map&quot; id=&quot;map_1ce08dc4680fe076ee9b206ca2cd3b74&quot; &gt;&lt;/div&gt;\n",
       "        \n",
       "&lt;/body&gt;\n",
       "&lt;script&gt;    \n",
       "    \n",
       "            var map_1ce08dc4680fe076ee9b206ca2cd3b74 = L.map(\n",
       "                &quot;map_1ce08dc4680fe076ee9b206ca2cd3b74&quot;,\n",
       "                {\n",
       "                    center: [0, 0],\n",
       "                    crs: L.CRS.EPSG3857,\n",
       "                    zoom: 1,\n",
       "                    zoomControl: true,\n",
       "                    preferCanvas: false,\n",
       "                }\n",
       "            );\n",
       "\n",
       "            \n",
       "\n",
       "        \n",
       "    \n",
       "            var tile_layer_2ed23cb61d4d837f6ae8ee18da679637 = L.tileLayer(\n",
       "                &quot;https://{s}.tile.openstreetmap.org/{z}/{x}/{y}.png&quot;,\n",
       "                {&quot;attribution&quot;: &quot;Data by \\u0026copy; \\u003ca href=\\&quot;http://openstreetmap.org\\&quot;\\u003eOpenStreetMap\\u003c/a\\u003e, under \\u003ca href=\\&quot;http://www.openstreetmap.org/copyright\\&quot;\\u003eODbL\\u003c/a\\u003e.&quot;, &quot;detectRetina&quot;: false, &quot;maxNativeZoom&quot;: 18, &quot;maxZoom&quot;: 18, &quot;minZoom&quot;: 0, &quot;noWrap&quot;: false, &quot;opacity&quot;: 1, &quot;subdomains&quot;: &quot;abc&quot;, &quot;tms&quot;: false}\n",
       "            ).addTo(map_1ce08dc4680fe076ee9b206ca2cd3b74);\n",
       "        \n",
       "    \n",
       "            var heat_map_a796c9b1e549d6a67093dce1900717be = L.heatLayer(\n",
       "                [[40.61134000000001, -77.558295], [40.038015, -76.351923], [36.276105, -121.185364], [39.076873, -77.606388], [42.74100000000001, -83.45004], [37.649041, -77.56049499999997], [42.14505, -121.80861000000002], [34.16203400000001, -118.381547], [28.408542, -81.446361], [38.85773, -77.071291], [25.741305, -80.303063], [38.376013, -120.559746], [28.4528, -81.364199], [34.06709, -117.441712], [34.071983, -117.884041], [25.76861, -80.367676], [39.361341, -104.86721], [27.92731, -82.31903], [25.81156, -80.2522], [41.30698, -72.91421], [36.120325, -119.324382], [39.448439, -77.386362], [42.539738, -82.893016], [38.237543, -77.557514], [32.91622, -96.86076], [39.64614, -106.31176], [39.635331, -84.195801], [34.762353999999995, -118.170352], [30.607949, -87.31796800000002], [34.029203, -118.012453], [39.885411, -76.687795], [34.145992, -117.289545], [29.10293, -82.18480799999998], [34.032678000000004, -118.310778], [40.98273, -73.74414], [28.419187, -81.404635], [33.822971, -117.199981], [36.771589, -76.25745], [41.168657, -78.654752], [30.226462, -97.702464], [38.054712, -122.693337], [39.896442, -83.04691], [39.746446, -84.29126], [33.895751000000004, -117.497781], [36.923236, -119.793964], [37.728191, -120.894287], [34.08701, -117.68588], [34.046958000000004, -118.446773], [39.533906, -76.664139], [44.94876, -92.89549], [35.03229, -85.303682], [33.933351, -118.368504], [34.065661, -117.996218], [28.436917, -81.404464], [45.50724, -122.74586], [30.438135, -97.737357], [28.813874, -81.866336], [40.756198, -73.852275], [25.878037, -80.354511], [28.1728, -82.75018], [34.796646, -82.376568], [38.91681, -76.9323], [26.617137, -81.804295], [33.981356, -118.278296], [35.491916, -97.531173], [40.63401, -111.90488], [39.01123, -77.06397], [29.93724000000001, -95.507332], [39.357972, -122.986325], [35.46427, -97.527881], [34.142924, -118.36736], [43.820384, -123.046677], [25.882616, -80.249352], [36.0198, -83.92257], [34.136841, -80.957431], [25.733243, -80.333047], [38.74213, -77.19098000000002], [29.99233, -95.42433], [34.05633, -80.92278], [40.748451, -95.817764], [26.158561, -80.164686], [38.6419, -121.14956], [25.702429, -80.33314200000002], [33.533134999999994, -112.11243600000002], [46.75125, -92.1022], [33.456626, -117.652021], [45.333012, -93.004578], [35.384228, -118.971876], [47.20065, -122.46157], [34.173162, -118.535988], [43.951457, -89.81751], [35.198372, -113.91416], [29.7257, -95.47638], [28.562093, -81.364452], [39.212232, -74.691034], [25.813832, -80.128939], [41.956175, -73.755415], [44.68412, -123.05325], [38.236809, -85.661956], [38.550306, -121.473874], [25.627141, -80.383572], [25.733292, -80.330738], [32.7534, -83.71133], [39.59376, -74.44334], [46.882047, -96.839873], [39.11874, -94.564577], [35.45097, -120.63976], [38.951641, -76.86182600000002], [39.95357, -82.9589], [32.192322999999995, -110.912148], [44.655035, -117.872466], [36.02472, -78.95047], [41.646054, -72.674127], [32.800193, -117.239009], [34.081981, -117.710276], [25.8123, -80.24415], [32.868120000000005, -87.92311], [40.834888, -73.866247], [35.618916, -120.68623], [34.027423, -81.102019], [41.088551, -76.866851], [35.074342, -81.87363], [36.695088, -80.872672], [32.76314, -117.12729], [32.751127000000004, -96.648098], [42.517712, -83.649339], [38.799, -105.12012], [41.06189000000001, -73.50965], [45.840829, -95.377324], [37.500593, -77.42815300000002], [37.82657, -122.28663], [38.01522, -121.75167], [42.74508, -84.50858000000002], [38.290935, -122.034745], [30.599113, -86.534123], [42.396389, -87.929364], [38.677599, -84.983434], [36.84295, -76.28466], [30.0118, -90.26716], [44.06185, -121.30705], [37.925607, -109.34608], [33.85870300000001, -84.433886], [47.991188, -122.871067], [37.916297, -84.55729699999998], [38.663924, -121.228637], [32.33593, -110.947], [29.84442, -95.452968], [33.675391, -117.839881], [36.06075, -80.19381], [40.759781, -112.776063], [45.69562, -94.88022], [33.457903, -112.76113], [34.0516, -118.458568], [37.91493, -122.06574], [25.813004, -80.234238], [28.485668, -81.41736], [27.594831, -81.94150400000002], [44.79449, -69.209111], [35.727593, -78.557671], [47.936132, -122.196236], [44.564481, -123.250777], [34.157813, -118.452819], [25.578003, -80.36644799999998], [40.813798, -74.05535], [36.059778, -79.61331700000002], [41.67361, -83.75859200000002], [32.29647, -80.934632], [41.93939, -88.11873], [41.24185, -95.95389], [34.071931, -118.266914], [38.804445, -77.183925], [40.852872, -73.959099], [34.027742, -118.452538], [33.75119, -84.4963], [28.514824, -81.42061700000002], [33.361995, -117.249204], [42.717901, -73.874527], [44.381278, -117.305349], [35.717486, -119.437147], [45.07927, -93.05297], [30.42687, -91.077206], [39.078074, -94.538098], [33.852505, -117.790651], [35.651486, -117.800723], [43.090986, -83.713986], [28.408741, -81.404753], [30.321811, -81.720145], [45.918524, -122.830668], [26.08868, -80.21061], [33.551527, -117.629702], [38.169481, -111.342679], [39.618329, -105.926452], [40.73616, -73.85679], [37.545717, -122.325812], [28.088039, -82.453132], [38.89478, -77.02190999999998], [42.957178000000006, -85.667727], [33.3436, -117.13136000000002], [33.950316, -118.170575], [34.06025, -81.04935], [37.3568, -120.639015], [35.07575, -85.10614], [42.91235, -85.76751999999998], [27.460479, -82.575346], [28.638677, -81.4455], [39.17636, -76.63606999999998], [44.059976, -121.298963], [34.1553, -118.26876], [28.550103000000004, -81.462592], [40.64236500000001, -80.09738], [33.431531, -112.596735], [41.163946, -73.376797], [45.537741, -122.683199], [35.135262, -80.901903], [41.98389, -87.65309], [38.265413, -122.270911], [40.096744, -75.29737], [45.709376, -121.529842], [42.73981, -73.686245], [32.82633, -96.78401], [40.262092, -74.51218399999998], [35.03253, -120.464661], [33.960322, -79.60069200000002], [45.277165, -123.826195], [33.95644, -117.306328], [40.22984, -104.98026000000002], [33.765734, -117.825332], [40.356281, -122.283453], [40.526548, -74.280457], [25.90678, -80.23581], [34.179271, -117.439867], [34.014649, -118.16891], [39.01598, -77.116223], [41.539441, -72.99831], [35.012516999999995, -81.975604], [43.08, -115.60842], [40.804735, -73.267318], [26.420317, -81.81161800000002], [41.64595, -87.57851], [40.541732, -74.302709], [29.97823, -90.04822], [29.811648, -95.347048], [30.4525, -91.076952], [39.86932, -75.344453], [44.166758, -93.949281], [37.2623, -81.12124], [25.771572, -80.19170600000002], [38.58868, -104.67017], [44.8389, -117.880219], [32.909601, -96.889004], [36.264281, -86.711475], [29.66346, -95.38519], [28.33244, -81.576573], [34.07945, -117.62676299999998], [42.700347, -73.835223], [37.40794, -122.0043], [38.712954, -121.46264], [34.278191, -81.074885], [33.922749, -118.029207], [32.897748, -80.648087], [42.32954, -120.30047], [25.927058, -80.2069], [40.72429, -111.94386000000002], [34.034184, -118.10854], [33.872794, -118.275408], [37.795878, -122.415011], [35.907041, -82.54677], [35.55107, -97.56565], [43.5981, -116.48358], [38.614932, -77.299329], [36.151504, -86.768428], [33.417157, -101.826322], [26.552090000000003, -81.79522], [27.968072, -82.763348], [45.778805, -93.648267], [33.987327, -117.905914], [32.977624, -80.388061], [41.297206, -72.734082], [29.655459000000004, -95.563731], [44.75544, -122.37914], [27.857706, -82.762283], [37.442885, -77.488943], [32.697996, -96.774547], [32.83978, -97.30954], [39.349334000000006, -77.173875], [27.44603, -82.45955], [40.654252, -74.131654], [33.91642, -118.28565], [32.298287, -80.93526], [33.755439, -84.466763], [37.73061, -121.11018500000002], [28.4971, -81.44175], [37.685685, -122.100799], [37.769677, -122.417729], [25.780844, -80.199885], [45.49834, -122.6732], [41.556609, -72.925724], [34.068020000000004, -117.856388], [39.176892, -94.622014], [39.34512, -76.509486], [39.869367, -75.31503000000002], [33.921478, -118.104604], [37.686592, -121.056922], [34.114216, -118.335843], [44.951228, -93.112518], [35.141555, -120.600268], [38.110801, -121.394449], [41.74571, -88.035], [37.749336, -122.403627], [36.561437, -119.55658], [34.796018, -118.859004], [34.03229, -118.22045], [37.572256, -122.264009], [34.00015, -117.35263], [38.87602800000001, -77.278741], [45.54428400000001, -122.380603], [42.628646, -84.726562], [40.76796, -73.21094000000002], [35.045879, -85.269388], [30.31567, -81.74863], [44.642754, -123.14226200000002], [38.879403, -77.24754399999998], [29.026119, -81.323541], [29.660052, -95.619106], [34.481728000000004, -82.64769], [40.063604, -76.339861], [35.43684099999999, -113.646837], [39.90505, -111.82473], [44.889203, -93.580974], [40.771455, -73.876006], [37.32509, -121.88677], [45.771683, -119.256081], [40.87474, -111.897], [32.839239, -117.121371], [42.905699, -74.56394], [25.668128, -80.449596], [34.121035, -117.883204], [44.14428, -94.121492], [30.168959, -81.596977], [39.046417, -77.075919], [30.306252, -97.742385], [40.797235, -73.929342], [42.07343, -72.58610999999998], [38.941115, -94.852105], [25.934112, -80.12182800000002], [36.10441, -96.0116], [40.13252, -75.1527], [29.919947, -90.01588100000002], [44.741553, -123.05248600000002], [43.03045, -87.99394000000002], [35.136436, -85.2101], [37.229188, -121.9735], [32.07011, -81.24793000000003], [33.457104, -79.114538], [34.055503, -118.198417], [35.42798, -120.772494], [34.221076000000004, -79.242958], [25.939219, -80.295793], [39.814174, -75.586602], [32.68836, -117.16371], [37.594718, -120.743577], [34.142327, -118.706547], [36.22923, -86.780437], [30.278457, -97.73008], [42.262134, -79.745204], [41.507977, -76.953789], [37.297543, -122.028976], [28.00331, -80.63408000000003], [37.658342, -77.453857], [37.630931, -77.577606], [28.567066, -81.210475], [38.906121, -77.217477], [45.086292, -123.20936299999998], [35.61604000000001, -119.689791], [36.644507, -119.704174], [33.80682, -118.15017], [37.65801, -121.90299], [33.688212, -117.88565], [27.298799, -82.498568], [27.166453000000004, -80.39300300000002], [35.99686, -86.68989], [32.381633, -111.105562], [36.944678, -119.912154], [45.507874, -122.684198], [35.077573, -117.562181], [35.85289, -78.80256999999997], [34.010308, -117.823429], [38.89568, -76.84866], [37.236067, -121.759017], [34.79195, -82.49401800000003], [41.11891, -81.46583000000003], [37.964624, -122.315841], [40.59294000000001, -111.90219], [25.747524, -80.33769000000002], [33.56103, -117.658495], [34.028759, -78.815473], [42.01389, -87.75305], [42.513581, -120.2876], [32.760876, -117.167977], [32.226387, -110.97173], [34.030319, -117.695786], [41.54884600000001, -72.785255], [25.763187, -80.30089699999998], [30.71628, -84.40489699999998], [40.97711, -73.75539], [44.950946, -93.108337], [26.564577000000003, -81.856779], [30.431038, -91.084082], [38.591412, -121.552749], [33.688421000000005, -81.244801], [40.65406, -74.00782], [28.76173, -81.36151], [41.764824, -72.64729], [46.170799, -91.80506], [38.824236, -77.503126], [45.252346, -93.555081], [32.296719, -81.096447], [40.64350200000001, -74.60526800000002], [38.771688, -120.924514], [33.336403000000004, -111.841816], [32.728307, -96.888301], [45.178817, -93.308032], [25.924443, -80.309485], [28.434577, -81.40460999999998], [28.064657, -82.73877], [25.925121, -80.30821999999998], [38.63862, -90.44446], [25.736216, -80.262152], [43.062427, -76.036521], [45.60711, -122.68153999999998], [34.116851000000004, -117.975794], [33.338545, -110.594377], [32.697876, -96.667596], [33.52407, -112.1863], [28.450781, -81.477807], [39.317844, -120.205719], [39.731366, -75.643702], [30.401431, -86.98922900000002], [25.506683, -80.440788], [26.196291, -80.150676], [43.608174, -91.221736], [43.066574, -73.934706], [30.210642, -97.787111], [32.787112, -117.114131], [38.952514, -104.807027], [44.861712, -93.314261], [33.628461, -79.026997], [45.522354, -122.685731], [27.858661, -82.32673299999998], [29.73175800000001, -95.308402], [33.885987, -84.4676], [35.162284, -80.876029], [32.887298, -96.703885], [45.08819, -123.96901], [36.801315, -119.785477], [46.19393, -123.85108], [27.273846, -82.514213], [39.68668, -84.22128000000002], [40.085817, -75.093655], [26.547128000000004, -81.802725], [37.9667, -122.04871], [40.98338, -111.8984], [40.55111, -74.54213], [33.879421, -117.556112], [33.9743, -81.19657], [38.091359, -122.129807], [25.9039, -80.189079], [32.91932, -96.748109], [33.852952, -118.196139], [34.261111, -117.44993], [35.20915, -80.838657], [37.309853, -120.44448], [34.181909999999995, -118.397287], [31.604819, -87.412044], [43.91877, -117.00605], [39.65454, -75.61676999999997], [43.923137, -90.112524], [30.553216, -97.692559], [38.657713, -121.363862], [40.07355, -75.83381999999997], [33.870453000000005, -118.056019], [26.615147, -81.664375], [33.786259, -117.219631], [41.95503, -87.73250999999998], [34.02404, -117.77093], [40.32724, -76.78605999999998], [39.71471, -105.0013], [33.905877000000004, -118.10506], [33.934833000000005, -79.089169], [29.837236, -95.429789], [25.931021, -80.27892], [34.001301, -118.410054], [41.647164, -122.520377], [41.71191, -87.79831], [41.426417, -73.339802], [32.535806, -83.743897], [42.446612, -88.090514], [40.777502, -73.94267099999998], [25.574352, -80.359962], [38.996989, -77.09213000000003], [38.06669, -78.496438], [34.143291999999995, -117.256839], [34.027644, -118.274874], [35.055795, -118.967095], [41.59251, -93.69373], [25.761055, -80.432928], [41.945468, -87.885374], [29.855907, -95.369286], [40.759663, -124.156755], [37.76215, -122.40566], [33.508184, -117.089882], [34.210706, -118.346604], [39.15646, -84.57746], [28.027828000000003, -82.209008], [37.78313, -121.239312], [39.952995, -75.283254], [35.64247899999999, -78.838833], [34.30045, -118.47672], [34.027374, -117.800513], [26.972911, -80.17913100000001], [42.53584, -83.76932], [44.648967, -121.129152], [36.57274, -119.62564], [32.720432, -96.828782], [34.020108, -117.840381], [34.197844, -117.4183], [34.032938, -118.435743], [41.66724, -87.66288], [26.49066, -80.16398000000002], [37.08471, -77.55898], [27.787413, -82.660583], [33.177155, -117.351204], [34.1211, -118.47972], [33.892136, -118.265242], [45.6128, -122.67823], [29.68078, -95.36396], [42.421184, -113.326023], [33.134588, -117.329536], [30.846218, -88.396054], [34.229029, -79.87306], [34.169709000000005, -118.467989], [42.76059, -73.75733000000002], [43.067177, -123.63837], [32.374927, -111.12528799999998], [32.712647, -96.711512], [44.088368, -93.245034], [37.17498, -93.292777], [38.452559, -122.786317], [42.33655, -83.03851999999998], [39.89554, -83.04454], [35.21633, -80.78078000000002], [33.197212, -117.125886], [32.72574, -117.10318], [25.796802, -80.399822], [44.424227, -93.292379], [27.38133, -82.55663], [35.565093, -82.59105600000002], [37.742265, -121.572507], [39.779994, -104.965436], [39.800145, -104.985532], [41.133841, -112.064492], [38.410348, -77.430011], [35.79044000000001, -119.25068], [42.973419, -76.812297], [36.526289, -119.286862], [40.169811, -75.15484000000002], [44.625747, -123.061869], [36.904899, -76.25339699999998], [33.953454, -118.036836], [42.932926, -78.796363], [42.893986, -85.640302], [25.924795, -80.315929], [37.2556, -121.8545], [33.897082, -118.26961599999998], [33.877011, -118.133952], [42.95467, -72.27507], [36.595566, -119.32275], [39.32177, -76.54859], [34.016495, -118.15951499999998], [34.719314000000004, -81.20558199999998], [33.871482, -117.68551399999998], [47.434945, -122.269612], [47.50458, -121.88454], [37.437739, -77.489561], [39.804918, -75.105297], [40.433027, -104.67951], [34.24953, -118.42724], [33.697562, -78.998012], [41.125012, -78.692375], [33.876718, -118.186422], [45.625002, -121.973317], [25.901093, -80.23573], [44.4443, -120.46884], [25.731815, -80.31824399999998], [34.043363, -118.579279], [37.748982, -122.203856], [34.926781, -81.19676700000002], [41.726862, -72.762429], [32.87376, -96.52398], [43.135368, -117.046357], [38.064376, -122.535914], [40.09057, -75.41372], [34.984619, -81.972525], [40.373475, -76.635442], [38.882254, -121.318419], [43.04003, -87.97299], [34.799545, -82.423794], [32.718070000000004, -117.108245], [38.334347, -122.993419], [32.90955, -96.898094], [29.893505, -95.316748], [37.4132, -120.755399], [34.226389000000005, -119.16388899999998], [39.10348, -84.82545999999998], [33.91369, -118.11368], [33.928881, -81.28615699999997], [42.75985, -73.75397], [41.303631, -73.034246], [33.935351000000004, -118.088689], [37.76517, -122.39356], [33.981598, -118.252053], [38.840819, -77.008072], [25.883954, -80.32374], [33.951412, -98.525294], [38.793998, -77.02123399999998], [30.349016, -97.545115], [29.703811, -95.586905], [39.653788, -105.209672], [29.672453000000004, -95.570277], [35.839238, -78.675899], [26.7601, -80.11676999999997], [33.2361, -87.649116], [33.97027, -118.37475], [34.077924, -118.261697], [47.350196, -122.24465], [41.24774, -82.40904], [34.80758, -78.98769], [45.791814, -119.32158], [45.0103, -93.186627], [35.08276, -80.851517], [41.42221, -81.7397], [37.567966, -122.310724], [25.627906, -80.414448], [39.240629, -94.658557], [35.778736, -78.73108], [33.90356, -118.185709], [40.78475, -111.93938], [25.731968, -80.384466], [30.41788, -91.089515], [35.017025, -85.38524100000002], [37.698962, -122.47167], [41.9569, -73.89419000000002], [33.974083, -118.223817], [33.799127, -117.877625], [46.51254, -112.78513999999998], [33.817989000000004, -83.925747], [28.53698, -81.37902], [39.08691, -105.8704], [29.670121, -95.258803], [29.042994, -82.163285], [41.04778, -73.83440999999998], [43.871487, -120.867708], [32.763458, -96.698094], [37.291599, -121.93686], [47.643918, -122.201707], [39.265202, -121.01661599999998], [37.55828, -77.47254000000002], [34.048528999999995, -117.394197], [38.50591, -90.619772], [39.236473, -76.667677], [40.13949, -74.09167], [41.92933, -87.69015], [41.604191, -72.704549], [40.52075, -74.41257], [48.360636, -111.935979], [33.972555, -118.079507], [38.341146, -75.198797], [45.507294, -122.660843], [41.9846, -87.85508], [37.503818, -121.962855], [32.448013, -93.901944], [25.926157, -80.20984], [35.35259, -119.03962], [40.360279, -78.430091], [37.692965, -122.102555], [28.472424, -81.416845], [40.80904, -73.17466999999998], [42.490555, -83.116128], [44.81184, -93.29151], [30.441473, -91.011632], [27.26046, -82.52255], [46.701584, -92.311513], [32.892669, -97.316926], [34.491945, -118.198239], [39.047546, -121.09411], [42.132411, -122.633351], [25.727695, -80.318437], [45.463298, -123.783791], [45.08082, -93.44687], [32.78821, -83.66855], [41.753839, -72.700789], [37.37525, -77.50471999999998], [41.93962, -87.70819], [34.103213000000004, -117.865453], [35.20305, -80.72399999999998], [25.72688, -80.26133], [33.770395, -117.981296], [40.838831, -73.933171], [38.608673, -121.429329], [38.772277, -112.077013], [44.793888, -93.402146], [38.663975, -121.225628], [32.912438, -96.736787], [40.73746, -73.97445], [45.48262, -122.566122], [38.784704, -77.178789], [34.27783, -118.50794], [34.153962, -118.344962], [25.737974, -80.319301], [42.990987, -83.74077700000002], [33.249069, -84.806391], [39.885038, -78.243995], [40.69114, -122.114322], [25.625744, -80.38219000000002], [33.85907, -118.28964], [37.693027, -122.089129], [37.295848, -79.95591], [38.495969, -121.459336], [28.610549, -81.308939], [37.057916, -122.123107], [39.196658, -122.037142], [26.33823, -81.79108000000002], [33.92815, -118.23919], [28.184017, -82.64869399999998], [44.420578000000006, -118.974257], [33.772085, -117.198022], [25.578347, -80.369697], [44.247471, -120.973711], [33.772240000000004, -117.90885], [38.34303, -97.62135], [34.396151, -85.62894200000002], [37.725772, -122.446186], [33.979613, -117.908266], [38.982925, -94.707469], [32.291446, -95.305859], [42.66557, -73.73021], [36.94581, -121.788738], [33.80719000000001, -84.37983], [37.083949, -120.215021], [40.116392, -76.37935300000002], [33.865431, -118.048878], [37.74116, -121.580467], [34.331084000000004, -118.506335], [32.665947, -96.823035], [26.648315000000004, -81.862725], [25.735688, -80.335859], [45.458024, -122.784608], [34.06566, -117.99671], [32.690666, -117.118368], [32.721634, -117.148899], [34.03374, -81.10725], [36.782453, -76.63341700000002], [34.646023, -118.040868], [38.486448, -78.807796], [25.90025, -80.16719], [38.783775, -77.179339], [25.688377, -80.350889], [41.152968, -84.98262199999998], [41.41765, -73.263458], [32.94851, -96.7362], [35.08502, -80.87356], [39.0911, -94.542571], [29.517635, -98.467251], [45.53319000000001, -94.099784], [36.308645, -86.681549], [39.68424, -104.992], [34.03419, -118.35024], [34.15316, -118.3583], [27.614133, -82.412859], [41.5513, -73.03671], [44.91205, -93.44905], [33.84672800000001, -118.211756], [32.685259, -117.090021], [39.86371, -86.27425], [45.02289, -93.08985], [30.161821000000003, -97.687973], [37.547708, -122.319466], [32.272079999999995, -110.9611], [33.91453, -118.10495], [32.935175, -96.761188], [25.535215, -80.41212], [45.60621, -122.68215], [37.31107, -121.85082], [25.93976, -80.204971], [45.21596, -118.023022], [32.817373, -96.689747], [34.43735, -118.37212], [34.002034, -118.066518], [33.930881, -118.368253], [28.567115, -81.210264], [34.061962, -118.16166], [39.106176, -94.733452], [42.503359, -122.904368], [45.52565, -122.6607], [34.264747, -79.70182700000002], [34.505012, -118.250719], [38.11915, -78.448723], [43.934306, -70.335275], [25.795205, -80.239917], [32.519638, -93.753204], [33.791749, -117.890237], [34.119898, -117.791644], [32.58824, -117.08789], [33.632446, -117.709016], [40.760232, -73.85721], [38.464314, -121.367463], [39.34512, -76.509486], [40.265134, -75.628017], [33.341189, -112.184273], [40.975559, -80.278912], [34.007027, -117.928659], [40.131985, -79.591786], [40.090007, -77.99484], [29.99674000000001, -90.04500999999998], [41.577644, -87.58139399999996], [42.427557, -82.926467], [39.53677800000001, -76.728679], [39.5778, -75.07066], [35.153181, -80.849552], [25.747808, -80.33247800000002], [37.572373, -77.456756], [33.56755, -112.082536], [34.02902, -118.39637], [39.6758, -104.93135], [38.321119, -77.41504499999998], [45.67027, -120.83396], [45.28897, -118.03512], [33.97476, -118.256477], [40.730747, -78.527697], [38.842681, -77.08561999999998], [39.8603, -75.353189], [36.06585, -80.25185], [36.12531, -80.812908], [34.230669, -79.80076], [38.73636, -90.3337], [47.64341, -122.30838], [33.18469, -117.23269], [32.709956, -117.14773999999998], [44.452093, -92.898327], [39.95804, -75.16569], [25.923378, -80.293072], [46.823045, -95.856239], [32.84645, -117.17181], [34.547740999999995, -117.966912], [37.435859, -77.431286], [33.958559, -118.231222], [36.233822, -121.174296], [35.890133, -90.791998], [34.846025, -91.411153], [25.686308, -80.41669], [34.07372, -84.539333], [35.22187, -80.82166], [36.318893, -86.713164], [32.925242, -96.803294], [34.647477, -117.215956], [25.88928, -80.209237], [40.856398, -93.499409], [41.259206, -111.969669], [33.69897, -84.26148], [38.58555, -90.217], [41.787346, -87.907844], [34.136291, -117.574342], [34.23452, -117.42193], [38.247785, -122.629727], [30.424083000000003, -91.150856], [39.73790200000001, -105.0139], [44.863411, -123.008283], [39.516697, -121.523537], [41.73539, -88.06282], [38.118063, -122.286425], [30.31438, -81.65763000000003], [38.871806, -76.98214300000002], [44.549549, -123.062013], [39.289595, -104.895339], [44.280222, -120.898266], [39.725381, -105.173568], [38.941824, -77.205115], [43.598289, -116.529044], [41.285608, -73.81965100000002], [27.138355, -82.460654], [33.835345000000004, -117.292002], [39.936607, -75.374206], [37.552988, -77.48010699999998], [38.37326, -81.60642], [38.517056, -121.463617], [29.812739, -95.550155], [34.097517, -80.957103], [36.151169, -86.857854], [37.764849, -121.354996], [35.82404099999999, -78.346161], [34.202942, -119.201461], [28.452192, -81.400388], [45.010968, -93.457129], [28.472488, -81.404116], [35.114503000000006, -118.508192], [33.387464, -117.238968], [34.068966, -117.971713], [25.7307, -80.317718], [35.744003, -78.761034], [26.166056, -80.16014399999997], [41.026583, -77.95036999999998], [42.309866, -87.893632], [38.603209, -121.435469], [33.98915, -118.280163], [40.897582, -74.71837099999998], [30.115398, -97.695093], [33.960018, -118.283743], [33.96363, -118.36985], [25.892425, -80.166386], [37.84131, -122.29735], [39.21444, -86.45625], [36.00979, -83.93822], [27.996311, -82.37303100000003], [34.139682, -117.955666], [28.58072, -81.95978000000002], [34.066422, -117.990881], [34.027005, -118.44828], [42.3698, -83.14409], [29.648618, -82.41445300000002], [44.858022, -93.14392], [36.713663, -79.90854300000002], [36.935949, -121.743284], [27.964544, -82.43100799999998], [37.709316, -122.467303], [30.320679, -84.24889399999998], [34.2398, -112.11483], [40.987608, -73.674768], [40.874172, -73.905683], [32.865931, -96.700553], [40.780319, -73.633401], [28.570209, -81.40436899999997], [37.763528, -121.418744], [41.242286, -77.002028], [34.952233, -82.28196899999998], [34.066663, -117.251286], [25.699035, -80.445199], [38.050519, -122.137322], [34.065656, -117.996206], [35.281458, -79.125321], [39.75117, -84.14211999999998], [41.71448, -87.6468], [32.93495, -96.75236], [44.84391, -93.29834], [33.88133, -117.649234], [34.164346, -118.225011], [36.30946, -120.92871], [45.39629, -122.483488], [32.76096, -96.77084], [33.97401, -118.223153], [43.023855, -124.085681], [37.530447, -122.322369], [28.54687, -81.413597], [39.434644, -77.519024], [39.11074, -78.01115], [33.348301, -117.519475], [25.808533, -80.260597], [29.45412, -98.62905], [36.984454, -122.029834], [28.357090000000003, -80.699164], [37.92643, -122.06079], [35.263717, -80.880351], [40.726157, -73.90325899999998], [27.088221, -82.430448], [42.979413, -85.663249], [25.447701, -80.501592], [41.4303, -72.56016], [43.36716, -123.33017], [25.698611, -80.38217900000002], [32.746059, -117.190403], [36.923556, -121.797501], [32.728303000000004, -96.763254], [44.95434, -93.079319], [33.940940999999995, -117.269905], [37.702551, -121.751616], [37.935168, -76.849462], [32.324062, -86.335512], [32.469482, -80.977572], [38.709089, -90.334511], [33.628267, -117.720744], [40.22606, -75.2421], [40.83405, -73.862971], [37.147897, -93.271914], [37.74206, -121.52603], [39.69701, -75.651624], [30.472067, -91.033962], [38.99024, -77.15263], [45.139124, -122.892586], [42.899819, -74.10965999999998], [33.825936, -118.241569], [28.489895, -81.458762], [44.536942, -121.094252], [32.92977, -97.03149], [33.85606, -117.98707], [41.565693, -88.14308299999998], [34.027651, -118.274914], [34.343441, -82.557556], [43.651064, -123.626592], [32.808061, -96.773945], [39.314221, -76.538218], [42.15379, -88.02806], [34.02809, -117.94417], [36.36633, -109.61371], [39.79195, -123.266029], [29.736856, -95.570086], [33.199261, -80.049103], [36.84614000000001, -76.18573], [39.838646, -74.925178], [29.729827, -95.47639], [38.880904, -77.221988], [40.77931, -73.5717], [36.84559, -76.252748], [39.014135, -77.12781], [32.923997, -80.040183], [35.227061, -78.641989], [37.18225, -93.276678], [26.546574, -81.840925], [42.646736, -84.069344], [25.884153, -80.35084], [34.030965, -118.030988], [39.013556, -77.045263], [34.087481, -117.645421], [38.95593, -94.54067], [35.300587, -119.002999], [47.57693, -122.31978], [41.771854, -72.599662], [30.603048, -87.107413], [35.025788, -80.963262], [40.036037, -76.31460600000003], [27.252891, -82.535659], [34.938608, -82.035107], [36.8414, -121.492407], [42.353957, -83.10490899999998], [30.404318, -91.10377], [26.678598, -80.069513], [41.818385, -93.570937], [25.38457600000001, -80.46546], [34.52135, -118.098049], [35.250518, -78.807369], [33.912065000000005, -118.17729], [40.653827, -111.90993600000002], [40.76556, -111.93416], [42.884815, -78.870862], [34.65597, -84.98499], [34.012476, -118.490541], [32.970672, -80.0118], [34.170296, -118.602533], [34.114084000000005, -80.947276], [28.413918, -81.83100999999998], [38.691297, -122.01703899999998], [39.418741, -77.48083199999998], [33.995533, -118.339906], [34.031220000000005, -118.274582], [42.00843, -88.20385], [33.025737, -96.709714], [33.926354, -117.556254], [37.0234, -76.327224], [30.00747, -90.270742], [33.386517, -111.587716], [44.005929, -121.388251], [34.030044000000004, -117.706845], [38.829631, -120.982988], [34.446674, -119.710543], [33.198347, -117.123631], [27.761689, -82.666679], [30.140463, -97.835083], [45.323167, -92.929248], [41.523227, -72.806962], [46.332379, -94.257523], [39.189666, -94.60962], [46.936868, -122.404033], [34.035053000000005, -118.368249], [35.885543, -78.567728], [34.01996, -118.155244], [33.939155, -117.1994], [38.653092, -121.531807], [30.397262, -87.250979], [30.540329, -84.601067], [40.565423, -75.494442], [32.402199, -93.814665], [42.968147, -85.69018299999998], [33.442659, -117.137381], [36.139816, -85.280889], [33.967855, -81.20325799999998], [40.374273, -111.812442], [35.015219, -85.163687], [38.040813, -79.081692], [25.670941, -80.414505], [27.613722, -81.514449], [36.013381, -87.375157], [34.948952, -119.691681], [38.662001, -121.358772], [28.407501, -81.403075], [34.041489, -118.064327], [30.419796, -91.150103], [33.774405, -118.037597], [38.067268, -122.225906], [41.020985, -87.270466], [38.741751, -121.271649], [34.48684, -118.61692], [37.71114, -121.084232], [29.688643, -95.281812], [35.057517, -90.015506], [45.174088, -93.300316], [47.58977, -122.259441], [33.809619, -117.96374], [33.87362, -118.2426], [25.889528, -80.202738], [39.15648, -76.65225], [46.760247, -110.73855], [44.981164, -93.243975], [32.770113, -96.801764], [37.631744, -120.998496], [39.395099, -77.420137], [35.201048, -80.775888], [45.731884, -107.946046], [42.785819, -71.264275], [39.015345, -77.031773], [47.104018, -122.588622], [39.620294, -75.642002], [40.021586, -76.334621], [32.674916, -97.240515], [45.27096, -122.776802], [48.15368, -118.16931], [42.153747, -88.022764], [34.266090000000005, -118.47159], [30.41265, -91.099638], [34.699719, -82.824363], [31.789690000000004, -106.3957], [34.038605, -118.30031], [32.4925, -93.705528], [33.686732, -117.872668], [30.42697, -91.168614], [36.750274, -119.658264], [33.88645, -84.26696], [40.698841, -73.51045400000002], [38.034025, -121.96588], [25.939421, -80.292374], [33.906519, -84.432023], [38.223209, -122.257734], [28.03269, -82.455005], [33.657270000000004, -117.777632], [30.26544, -97.733584], [45.165056, -93.858443], [34.047333, -81.102824], [29.973774, -90.054786], [25.89895, -80.160934], [42.121467, -121.944539], [36.979425, -76.99964], [41.624371, -73.772148], [25.786511, -80.212239], [26.505903000000004, -81.943787], [45.17997, -93.11311], [29.791856, -95.52186], [35.36358, -109.04635], [37.5556, -77.45861], [28.0856, -82.50488299999998], [25.687153, -80.362493], [45.00353, -93.2825], [41.30136, -73.88235999999998], [37.581778, -77.423098], [31.785256, -81.437383], [37.54708, -77.44882], [40.427852, -79.925748], [33.57677, -112.01298], [35.19495, -80.76665], [38.95911, -94.73045], [32.936008, -80.042627], [33.833866, -117.875982], [29.69173, -95.28362], [34.250236, -117.452332], [30.440119, -91.208626], [35.949851, -120.877879], [34.077183000000005, -118.282008], [39.901261, -75.098449], [40.97086, -75.126346], [36.150875, -86.864625], [25.769722, -80.333529], [39.69706, -86.18261], [40.386267, -122.28531], [32.7065, -96.62344], [42.720864, -122.535702], [35.190072, -78.683591], [28.088725, -81.965121], [27.526534, -80.454307], [39.87535, -75.0497], [32.501789, -93.734665], [42.42127, -82.931413], [25.763007, -80.306678], [41.323916, -73.852014], [33.914487, -118.104927], [43.41587, -84.06336800000003], [34.097718, -117.985551], [40.272123, -78.810307], [34.163414, -118.626451], [42.8464, -72.57498000000002], [38.710694, -90.685304], [40.98784000000001, -73.67647], [29.935153000000003, -90.104333], [39.014929, -94.109584], [33.942008, -117.292074], [40.27456, -74.70673000000002], [38.422248, -105.056225], [26.146437, -80.169375], [35.13086, -89.86301999999998], [34.189705, -119.142293], [34.415638, -118.472246], [33.079257, -97.024775], [25.78127000000001, -80.33677800000002], [40.197719, -74.613765], [41.53851, -72.81609399999998], [41.58528, -72.04876], [38.837497, -77.089327], [37.91406, -122.06648], [47.125586, -92.471612], [28.40987800000001, -81.424346], [42.16453, -123.502159], [37.75228, -121.46727], [41.941719, -73.43937199999998], [41.97665, -87.774], [42.824002, -78.79092299999998], [41.60413, -87.58334], [43.834687, -91.76338], [38.831487, -77.108434], [40.152678, -75.35024], [37.913196, -104.827584], [37.440192, -120.786963], [25.696454, -80.2999], [29.51639, -98.52808], [43.183022, -77.60813900000002], [45.483382, -118.404979], [38.609914, -121.336765], [28.552379, -81.45009300000002], [45.59948, -118.638308], [32.77409, -96.79329], [25.707718, -80.430918], [34.193940000000005, -118.398253], [25.702173, -80.3359], [38.772734, -76.886602], [33.854440000000004, -117.79576000000002], [33.963645, -118.36987], [34.409823, -119.864284], [41.24231, -96.08565], [32.785584, -97.212644], [40.540007, -111.893586], [31.519798, -85.291213], [33.75042, -84.38172], [28.557988, -81.310879], [33.955659999999995, -117.38148], [28.259749, -81.436207], [36.094209, -81.17883499999998], [34.02816, -118.21359], [27.89373, -82.66821], [34.160152000000004, -118.469607], [37.892761, -122.064902], [45.59045, -120.69738999999998], [48.04373, -122.18111], [41.13205, -121.131767], [45.37072, -122.70689], [34.847162, -82.447725], [33.969196999999994, -118.225194], [29.025594, -82.15283000000002], [40.708583, -122.33552], [40.885788, -111.896727], [42.668098, -71.07752099999998], [37.949669, -76.701003], [42.875445, -85.331384], [35.801231, -78.571372], [30.343775, -97.705464], [37.63423, -122.414022], [34.105611, -118.254352], [40.860454, -73.872047], [41.267856, -73.934136], [45.81022, -119.48232], [27.050927, -82.397503], [33.386239, -87.706869], [26.494584000000003, -81.843379], [33.693428999999995, -78.883183], [32.303290999999994, -95.315161], [34.814332, -82.517484], [38.344355, -81.613794], [35.150016, -90.029738], [33.75781, -82.504354], [34.885779, -82.066051], [32.75773, -117.217077], [34.703956, -118.174836], [34.001723, -117.165916], [40.089662, -75.382869], [42.92844, -78.76616999999997], [28.47798, -80.76921], [36.1361, -80.23944], [34.272442, -118.556094], [28.492772, -81.39675600000002], [25.467219, -80.428155], [25.925427, -80.29330999999998], [36.327402, -119.413645], [34.239988000000004, -81.464099], [39.97727, -75.200158], [34.99148, -82.06984399999997], [35.464364, -120.970649], [35.999182, -85.042215], [35.81831, -78.60829], [39.18985, -104.85064], [34.887112, -120.429642], [30.467440000000003, -97.669803], [37.251489, -121.838082], [37.470714, -121.929709], [36.905951, -76.498018], [34.02841, -118.4483], [33.990804, -117.934529], [41.17047, -111.96858], [35.214485, -80.77328], [27.137429, -82.430021], [25.8878, -80.32394000000002], [33.084274, -117.298304], [39.875725, -75.052596], [39.999487, -78.232462], [39.068815, -121.010393], [40.648898, -116.303816], [41.245111, -73.10241500000002], [30.418472, -91.08786], [37.90716, -122.31498], [34.041121000000004, -118.060852], [38.61782, -121.3829], [28.571672, -81.37021700000003], [33.501514, -117.147997], [30.304144, -81.90302199999998], [33.872249, -118.341908], [41.312381, -72.913073], [33.66697, -117.88038], [35.4418, -81.98207], [39.18182, -76.78424], [38.02543, -78.813482], [37.682322, -122.115052], [39.95913, -75.605692], [41.402503, -71.86278399999998], [47.807747, -93.382104], [34.044540000000005, -117.398569], [39.820944, -85.783385], [25.80803, -80.31314499999998], [27.09930300000001, -82.343829], [34.037332, -118.170176], [37.746018, -121.584011], [40.201731, -77.380346], [27.98603, -82.72958], [33.4697, -112.11131], [36.15443, -86.76102], [44.901656, -123.228558], [33.96546, -117.85084], [34.614051, -80.691703], [39.775775, -84.186033], [36.197695, -86.837357], [43.018964, -123.996757], [32.964490000000005, -117.247136], [32.770363, -117.161493], [34.020221, -118.18824], [32.874796, -96.689152], [33.059706, -117.069501], [33.543665999999995, -86.557564], [38.105488, -121.260279], [33.901327, -84.2441], [25.92478, -80.154122], [25.92958, -80.188317], [38.88471, -77.406577], [34.135822, -80.942722], [33.407911, -80.50331700000002], [41.085616, -111.987322], [32.67577, -97.01186], [38.078121, -122.232808], [45.00732, -123.3807], [40.483452, -111.89838799999998], [43.977795, -124.062834], [34.041057, -118.015026], [42.336586, -88.031798], [47.644969, -122.288872], [38.71573, -77.463961], [36.975463, -121.889308], [34.156061, -118.26457], [42.36544, -83.1334], [47.675036, -122.320613], [25.925759, -80.207063], [38.89526, -77.066699], [35.174358000000005, -80.81322], [45.087876, -93.447612], [39.853232, -85.148973], [44.95185, -93.12152], [38.441237, -111.785277], [29.737072, -95.54062], [43.74441, -84.0173], [37.36548, -121.90501], [35.97795, -78.87999], [40.323655, -74.268609], [45.236474, -123.066304], [34.033729, -118.265343], [34.06605, -117.32808], [30.449837, -84.322739], [34.02196, -117.813129], [30.21083, -81.51371999999998], [32.721755, -96.874385], [43.0245, -88.10093], [35.83408, -78.67272], [40.529788, -81.918947], [30.39477, -97.86692], [47.296167, -115.169394], [29.69409000000001, -95.55713], [34.404877, -118.574613], [41.87085, -87.869636], [38.675538, -111.843511], [34.170734, -118.605378], [29.73636500000001, -95.598111], [40.480939, -74.402879], [36.5625, -119.435056], [36.040653000000006, -86.60436800000002], [40.76606, -74.16034], [38.05664, -121.296094], [39.098533, -76.798887], [41.366218, -91.715615], [33.52406, -112.17748], [25.763054, -80.359352], [36.727314, -119.879181], [42.966835, -85.678494], [31.14904000000001, -90.479139], [40.662868, -75.384067], [38.853954, -94.528545], [33.43677, -112.16922], [41.80816, -88.09076999999998], [36.22435, -119.3341], [33.866803999999995, -117.711521], [41.992251, -88.060775], [40.526319, -112.29864], [34.084302, -117.69258], [29.81356, -95.39551], [33.00589, -111.75548], [38.240761, -104.229192], [43.005155, -78.79470699999997], [34.031004, -118.433207], [41.91964, -87.67369000000002], [34.878555, -86.92031899999998], [28.06925, -82.45116], [32.82441, -96.9197], [38.85887, -77.36346999999998], [35.55562000000001, -97.68917], [26.335794, -81.750923], [28.55253, -81.38238], [44.86289, -93.13693], [34.014109999999995, -118.419771], [44.24751, -112.22778999999998], [34.136725, -117.547805], [34.220143, -79.837613], [37.629492, -120.79932], [33.25419, -80.696791], [36.904224, -80.878504], [43.596614, -73.869076], [33.976310999999995, -118.386349], [30.445184, -87.270377], [29.9546, -95.5397], [40.91713, -73.871115], [37.28732, -77.389376], [34.087657, -81.147052], [34.007020000000004, -117.82629], [39.75103, -84.21435], [31.878044, -106.440817], [26.713287, -82.0503], [25.866297, -80.24238199999998], [33.542588, -117.673558], [29.77078, -95.21093], [33.46476, -112.2725], [39.122711, -121.574074], [36.156859, -86.76916999999996], [36.706624, -119.844479], [38.810727, -77.25600899999998], [44.915442, -93.274655], [33.836731, -118.237715], [34.028098, -117.754149], [41.94016, -88.14355], [39.09526, -84.5222], [34.818512, -82.276886], [34.040194, -118.017156], [28.44649, -81.475714], [29.149643, -82.185153], [25.964762, -80.172462], [33.70985, -84.24579], [38.853868, -122.55604], [32.242752, -110.973401], [38.347869, -81.636279], [45.26978, -93.72619], [30.350471, -81.66849], [40.010565, -75.062878], [34.48738, -120.226644], [44.296821, -117.810012], [37.8969, -122.101841], [28.041568, -82.504937], [25.666263, -80.32826700000003], [40.13887800000001, -75.11281899999999], [45.360947, -121.997803], [38.61191, -121.51067], [34.557458000000004, -118.675844], [37.903353, -122.31256299999998], [44.999488, -93.441978], [33.78785, -118.20762], [47.65383, -117.34678], [25.866297, -80.24238199999998], [43.347641, -73.54504399999998], [37.340651, -121.850556], [25.919893, -80.244363], [35.245419, -80.86605], [44.925842, -93.382863], [34.03007, -117.7025], [34.05201, -118.25982], [33.937844, -118.109919], [47.56293, -122.38679], [30.348111, -83.15007800000002], [40.75510300000001, -111.94923500000002], [32.220212, -110.823855], [28.358675, -81.340294], [40.00611, -104.98094], [45.30097, -122.76951], [41.184911, -80.444953], [48.630437, -122.358649], [37.631431, -122.084667], [33.946304999999995, -118.094051], [37.40922800000001, -122.071845], [26.709916, -81.80781], [33.043559, -117.13293600000002], [30.272563, -97.703962], [33.3413, -111.89346], [33.998712, -81.108952], [41.306222, -111.99206399999998], [38.645722, -121.378536], [35.21703, -97.71657], [47.26451, -122.32266], [32.759631, -117.200657], [25.71518, -80.394114], [34.106145, -80.31366700000002], [38.1811, -85.72093000000002], [38.66099000000001, -121.351444], [35.33279, -80.79906], [36.753365, -119.723732], [28.503597, -81.396827], [45.010803, -93.089786], [38.74381, -78.650867], [33.45792, -112.33462], [33.967935, -118.083156], [46.874911, -113.890809], [41.95033, -88.03179], [42.741161, -73.693016], [32.924461, -96.761823], [33.915792, -118.189276], [25.630294, -80.41471800000002], [33.460346, -86.944985], [38.759248, -77.183099], [40.084143, -75.391756], [25.932795, -80.249424], [38.83992, -76.866434], [36.634476, -86.572818], [25.435163, -80.492612], [47.599092, -122.180124], [35.70904, -78.87996], [44.715736, -93.129295], [39.177304, -94.530947], [47.56543, -122.37618], [42.485152, -76.383814], [36.051541, -119.03911200000002], [45.660896, -111.125069], [37.7855, -122.39182], [29.954221, -90.08645], [46.69775, -113.426967], [38.70699000000001, -78.657742], [33.941812, -118.355909], [45.064684, -93.982232], [41.159135, -111.939739], [34.00562, -117.828675], [33.985405, -117.345095], [30.677808, -83.22048000000002], [42.29063, -83.13027], [25.928872, -80.293432], [45.17582, -122.85518], [34.03818, -81.10499], [38.63568, -90.414549], [28.55376, -81.27772], [40.070361, -75.151562], [34.023171000000005, -117.811688], [43.0595, -77.59299], [38.8778, -76.96202], [41.971282, -88.206941], [33.91802, -118.227513], [34.136227000000005, -117.453664], [45.68761, -120.47207], [37.726168, -121.398191], [25.791462, -80.205298], [40.69043, -74.268919], [47.300762, -115.180841], [28.001212, -82.305708], [45.42254000000001, -122.74702], [45.836762, -119.717178], [25.64166, -80.335241], [39.2533, -76.67673], [38.115942, -121.395865], [40.68229, -73.664301], [41.326058, -72.881027], [37.022222, -121.566667], [34.07278, -117.77842], [28.018998, -82.789831], [39.873692, -75.041116], [25.624072, -80.414429], [27.91528, -82.787713], [33.46153, -112.40187], [42.44886500000001, -93.562349], [28.796559, -81.34518800000002], [33.77871, -117.89506000000002], [37.839692, -122.297029], [40.067311, -75.307185], [33.983476, -118.394846], [37.691808, -122.091498], [33.673583, -117.756069], [30.43895, -91.186372], [25.939694, -80.121493], [39.932516, -74.962539], [44.952524, -92.958524], [39.005831, -93.890544], [34.244084, -119.164046], [34.134427, -117.633068], [42.44102, -83.7551], [25.808789, -80.25039100000002], [34.756819, -120.294737], [40.764824, -111.988073], [37.932486, -122.403542], [35.370956, -80.730841], [40.614358, -112.371107], [25.953487, -80.20472], [34.023383, -118.200596], [27.936842, -82.29381500000002], [35.798282, -78.70879599999998], [44.472506, -93.306505], [40.023016, -75.315087], [44.959603, -93.205893], [30.18888, -97.767101], [28.964661, -81.951063], [28.022271000000003, -81.182366], [40.71756, -111.83626], [34.00071, -117.84493], [40.124477, -77.76480500000002], [41.75575, -72.700838], [40.108609, -82.964894], [40.07435, -80.70541], [30.4503, -91.15588], [26.146076, -80.451217], [35.60963800000001, -77.15299499999998], [39.992712, -85.857414], [33.546240000000004, -83.19919], [40.181356, -75.54855], [26.120809, -80.228585], [34.017702, -118.175493], [32.66626, -96.91319], [40.847015, -73.933462], [38.853141, -77.396782], [28.564772, -81.20727600000002], [29.460475, -98.480455], [34.004026, -118.280514], [35.325338, -84.77725699999998], [38.867595, -77.316229], [38.88968, -76.91346999999998], [28.146181, -81.452893], [43.617082, -116.253709], [25.92184, -80.21123], [40.274688, -74.830809], [39.81215, -86.1798], [40.73752, -73.85096], [34.049386, -117.700181], [40.555182, -111.8972], [30.10378, -84.413344], [43.11101, -77.55320999999998], [42.66109, -71.19785999999998], [36.978913, -121.910104], [30.170729, -97.664626], [39.018617, -76.968462], [32.785488, -96.80096], [37.205036, -121.715959], [37.607614, -120.993554], [28.514532, -81.311607], [37.690551, -122.095089], [38.423303, -122.789454], [34.066191, -117.479175], [38.25321, -85.74421], [40.716936, -73.830287], [40.698837, -73.533328], [25.949782, -80.227886], [40.756381, -73.953604], [29.960075, -90.01129499999998], [34.15866, -117.328156], [38.93697, -77.18526999999997], [39.566906, -76.141337], [39.67093300000001, -86.196212], [34.018797, -117.511033], [33.913818, -84.479917], [34.994094, -81.991885], [28.553148, -81.374465], [33.774898, -118.085402], [40.649576, -77.452448], [40.853887, -73.964318], [28.64021, -81.442429], [28.437533, -81.40436], [33.873706, -118.290971], [32.748559, -96.809794], [45.97373, -117.26485], [42.45516, -120.28165], [34.027776, -117.92652], [34.049026, -83.778114], [33.854225, -117.79065], [37.79378, -122.20524], [40.74006, -73.78995], [38.550856, -121.422653], [45.52217, -122.81579], [29.207001, -82.185715], [37.664109, -122.46546], [37.2547, -121.79239], [34.067945, -118.026678], [34.85725, -82.264], [28.415118, -81.474384], [39.16303, -104.853876], [37.81608, -121.99347], [39.442093, -121.537712], [37.82722, -122.29661000000002], [37.798083, -121.092426], [33.733426, -117.81548], [37.278596, -119.575635], [32.83957, -79.86268000000003], [43.105921, -73.77226], [44.83176, -93.237173], [40.963699, -76.564628], [38.574394, -121.577427], [43.873461, -117.530761], [40.79598, -74.433306], [33.889884, -118.192977], [34.023658000000005, -117.749425], [34.572376, -80.993415], [39.648859, -105.180745], [34.27262, -118.55966], [37.602475, -122.204187], [36.277822, -119.313489], [32.861727, -117.187417], [34.279141, -80.560197], [33.695838, -117.935133], [32.738345, -97.474704], [39.22877, -77.28293000000002], [38.39676, -78.910638], [34.055589000000005, -118.197108], [38.406518, -122.715976], [35.837606, -119.26135], [27.996327, -82.54890400000002], [25.718183, -80.27249300000003], [34.07292, -118.466523], [32.727252, -117.218209], [37.408133, -122.068026], [38.53841, -90.49556], [33.998719, -81.267094], [39.563404, -104.954449], [34.054078000000004, -118.237857], [46.336052, -94.442421], [36.123046, -94.179883], [32.757119, -117.222068], [44.462607, -118.689947], [39.436154, -77.40989499999998], [37.68089000000001, -113.06523], [38.80473, -77.16048], [28.552181, -81.36444499999998], [33.599032, -80.654313], [38.65263, -122.59978999999998], [32.29804, -86.30712], [33.826840000000004, -84.23044], [25.764969, -80.303967], [34.35929, -118.55393], [33.531002, -111.975562], [28.568215, -81.27430600000002], [41.168413, -73.199269], [41.85109, -87.6454], [34.05516, -118.2154], [28.495958, -81.396924], [47.61394, -92.55381], [25.903097, -80.239639], [36.039985, -86.74273000000002], [47.97684, -122.19066], [25.941422, -80.19295], [26.142514, -80.169736], [38.434714, -122.717081], [40.36003, -120.86636], [47.17007, -122.43411], [41.68721, -92.00196], [34.134772, -117.663106], [27.270415000000003, -82.497665], [36.815785, -76.19465], [28.555322, -81.314224], [40.526681, -112.298566], [37.218884, -81.092862], [40.853894, -73.963726], [32.367715999999994, -86.308736], [39.679538, -105.87328], [40.77117, -112.02751], [25.926019, -80.245421], [27.89999000000001, -82.63899], [34.018065, -117.340805], [36.07548, -86.9404], [28.655315, -81.38884], [25.76413, -80.32054000000002], [45.455891, -122.57325], [33.41474, -111.8745], [38.44554, -122.19644], [33.960074, -118.233918], [27.19412, -80.844328], [40.346087, -74.113716], [42.92761, -85.70575], [36.826397, -76.163963], [40.824251, -73.836276], [40.614463, -78.36513000000002], [33.282503000000005, -111.791085], [35.007446, -82.17498], [38.8399, -76.06061], [30.314744, -91.835864], [34.087155, -117.677911], [43.59434, -72.35043], [35.22437, -80.865], [39.606137, -77.748868], [34.06638, -83.78396], [34.763357, -82.47255], [43.6194, -116.356154], [34.049477, -118.448664], [45.350135, -122.631583], [40.75072, -73.75083000000002], [33.7902, -84.390846], [35.76325100000001, -78.57460400000002], [45.573402, -122.554217], [45.174371, -117.977971], [40.81075300000001, -73.936998], [38.902899, -77.021787], [40.784005, -73.652326], [40.12071, -111.6612], [25.73447, -80.26827], [41.11137, -81.49669], [34.774655, -112.452808], [39.799507, -84.207748], [35.832104, -78.584152], [44.732453, -123.22313], [37.476764, -122.211517], [38.238303, -122.59028899999998], [33.874524, -118.193246], [33.881964, -117.880581], [29.77532, -95.293115], [42.26737, -84.61729], [40.983091, -75.191727], [41.780387, -87.90795], [32.703284000000004, -96.661051], [28.44618, -81.47417], [42.20219, -121.811], [33.911245, -118.172382], [39.948831, -77.136157], [40.446928, -80.16583], [25.748864, -80.303563], [39.44985, -75.67357], [34.042475, -117.407292], [40.7946, -77.62514], [34.674978, -82.44639699999998], [25.70261, -80.291598], [25.726452, -80.294398], [35.11298, -90.028693], [25.913509, -80.29263399999998], [25.733106, -80.261961], [29.65308, -95.54993], [28.203317, -81.46954000000002], [32.861878000000004, -96.658075], [32.76265, -117.16355], [42.969514, -83.725765], [33.716188, -117.189269], [32.653928, -117.070316], [27.7772, -82.699874], [27.95849, -82.70889], [25.824404, -80.2066], [34.17933, -79.824387], [34.033209, -118.114324], [45.67836, -118.86423], [40.133045, -75.203272], [44.097822, -123.151041], [30.426626, -87.282208], [25.925931, -80.166015], [36.546101, -119.416075], [33.276268, -117.445181], [39.753311, -84.181327], [39.690438, -78.130313], [25.74541, -80.3197], [25.86818, -80.23726500000002], [34.04591, -118.269968], [34.12842, -117.96183], [45.691205, -118.92933899999998], [34.265993, -118.443097], [36.992058, -78.697567], [39.921204, -111.812084], [28.487852, -81.437888], [37.149142, -121.648575], [38.988775, -77.454251], [33.015805, -80.033497], [38.91800900000001, -76.943475], [34.301842, -79.629307], [34.530082, -86.905556], [40.09086, -76.169568], [25.808479, -80.261842], [36.150068, -95.94039], [42.93158, -78.76644], [47.66829, -122.32237], [30.57226, -91.07135], [32.782059999999994, -96.686362], [38.678545, -121.236303], [38.634348, -77.428478], [35.309811, -90.252846], [26.00348, -80.21613], [39.22775, -94.50154], [30.317947, -97.991212], [47.670224, -122.321702], [34.140754, -117.248314], [40.725399, -73.894979], [32.637749, -117.099159], [37.48698, -121.93262], [44.058705, -93.392726], [30.481776, -84.306546], [34.447135, -82.719346], [45.2765, -94.94297], [32.647685, -96.845703], [30.18502, -93.56678], [30.481504, -81.643828], [32.925266, -96.797734], [35.673583, -80.856724], [25.628949, -80.340104], [34.053662, -118.232473], [34.653378000000004, -82.856451], [25.785652, -80.288611], [33.82516, -118.22231], [28.918644, -81.269463], [44.96424, -93.240591], [33.93698, -117.8925], [36.650444, -121.814635], [39.908416, -75.149501], [30.24942, -81.594225], [27.9664, -82.548532], [36.044887, -86.66386], [36.150974, -86.864165], [33.974726000000004, -118.237251], [45.397492, -122.499311], [33.940940999999995, -118.096665], [33.680576, -117.7611], [42.299138, -83.94341800000002], [25.7481, -80.310227], [26.099512, -80.25473000000002], [40.468043, -79.977174], [45.057667, -117.941526], [32.265994, -90.138149], [40.753869, -73.852766], [41.234382, -73.030575], [37.92036, -122.06244], [40.84508, -73.9192], [26.546544, -81.84304399999998], [28.552164, -81.344658], [33.928931, -118.281073], [42.711978, -84.547759], [30.247662, -92.160991], [39.162539, -76.816406], [26.632994, -80.068219], [25.518023, -80.427913], [33.7659, -117.94138], [34.851561, -89.987651], [25.849486, -80.31439300000002], [44.865538, -119.024637], [36.149579, -86.77290500000002], [33.411475, -111.96079], [25.92731, -80.20665100000002], [34.040343, -84.03573], [36.84608400000001, -76.243652], [35.739179, -83.02573000000002], [45.49035, -122.65363], [38.5997, -121.50468], [37.314412, -77.33470200000002], [27.903095, -82.636016], [37.468775, -77.806431], [35.151903999999995, -120.657273], [25.772268, -80.288214], [46.545232, -112.85156200000002], [40.85442000000001, -74.17577], [36.798743, -119.785187], [33.073171, -80.248064], [37.762651, -121.439953], [33.008068, -80.667811], [43.98075, -121.475496], [40.820839, -73.931804], [39.05111, -77.07404], [34.07982, -117.62692], [40.286299, -79.379976], [34.155245, -118.293896], [25.881633, -80.24296700000002], [47.70686, -122.34473], [33.719494, -117.795211], [41.07916, -73.92183], [39.155708, -75.612827], [37.928384, -122.323158], [39.106689, -94.575883], [35.163986, -80.876029], [36.83428, -76.14227], [45.582538, -122.10005], [28.367468, -81.421273], [35.792781, -78.746663], [28.423768, -81.404781], [33.545276, -79.051213], [39.809735, -86.282728], [25.78601, -80.25809], [34.713287, -81.630905], [28.046363, -82.73859], [28.59642, -81.298897], [33.66658, -84.03393], [38.874486, -77.043081], [34.102946, -80.126992], [26.084926, -80.202704], [40.458766, -78.409374], [26.608994, -81.801613], [34.217231, -118.227835], [41.844672, -121.310655], [44.954651, -93.078669], [43.02995, -87.99969], [34.982925, -80.986372], [45.000947, -93.220227], [30.223435, -97.763615], [25.928291, -80.212378], [43.86252, -123.0153], [40.72545, -111.89065], [40.68168, -73.96744], [42.755592, -71.49324], [32.674253, -117.109145], [39.640587, -84.242558], [33.315085, -97.179522], [40.83018, -74.61547], [35.61914, -82.284192], [41.77202, -77.9852], [38.847236, -77.427595], [33.673373, -117.886069], [35.11735, -80.7795], [38.711697, -77.220732], [30.395068, -90.999275], [37.688394, -122.390645], [36.775956, -76.251535], [41.805423, -72.659886], [30.167174, -97.791533], [28.342540000000003, -82.2371], [42.985463, -83.730705], [34.050561, -117.749923], [38.81143, -76.96307], [34.994889, -82.01564], [33.94178, -117.27361], [33.909398, -84.35743599999998], [39.593783, -77.730947], [36.187022, -86.768737], [33.64914, -84.36925], [41.663481, -86.73866600000002], [26.018422, -80.16730799999998], [33.462218, -112.047776], [38.49611, -121.3905], [32.664856, -80.75585699999998], [38.464171, -122.880025], [33.920074, -118.265212], [33.12146, -117.10221], [37.42063, -77.63723], [30.455751, -91.248502], [35.995963, -83.963645], [37.588181, -122.357405], [32.54735, -86.45557], [38.496158, -121.429183], [39.82305, -111.83377], [36.751039, -119.794177], [33.075647, -117.08363], [34.266193, -79.71145600000001], [42.11305, -88.03395], [27.855498, -82.32655600000002], [43.03112, -88.05458], [40.682448, -73.572016], [42.76617, -123.3373], [35.37091599999999, -119.179231], [34.001634, -117.839843], [38.034335, -78.458119], [34.014933, -117.455109], [35.06818, -120.512781], [27.261626, -82.523803], [38.014891, -122.248268], [33.875596, -118.012444], [33.792539, -118.207601], [34.756778000000004, -86.719217], [37.096328, -80.160768], [34.204628, -82.12146899999998], [40.70352000000001, -74.24694000000002], [32.836657, -97.027038], [41.76613, -72.65141], [33.137757, -117.175948], [32.428042, -83.578142], [44.685178, -123.053371], [34.02483, -84.32225], [28.036329, -82.501261], [26.085103, -80.168299], [34.066704, -117.233208], [45.52242, -122.66572], [34.800556, -82.22412800000002], [33.174367, -117.349121], [37.318078, -121.9781], [34.025686, -118.464577], [39.08430300000001, -94.592567], [45.481037, -110.96151], [28.022494, -82.455937], [39.869367, -75.31503000000002], [34.420207, -80.756858], [45.559088, -123.927021], [34.1388, -118.71895], [33.845609, -118.298027], [41.07733, -73.71855], [30.545507, -84.613548], [44.777601, -93.325885], [40.74667, -73.969155], [35.813529, -78.846935], [39.511647, -123.386616], [35.776775, -78.693031], [41.77888, -71.42545], [35.42594000000001, -83.44792], [41.024024, -80.518945], [38.705376, -90.675121], [41.074415, -76.965547], [37.317908, -121.980567], [35.31517, -80.83357], [33.77207, -117.90919], [27.86247, -82.700133], [42.13006, -72.06761], [33.974642, -118.286822], [45.807312, -123.229597], [44.396784, -95.873037], [25.953218, -80.29229699999998], [35.00853, -85.1532], [30.01387, -90.01309], [40.64548900000001, -74.016977], [25.94244, -80.20528], [28.54704000000001, -81.270235], [38.683965, -121.46611], [46.78626, -92.09698], [34.134167, -86.867769], [34.060367, -80.962358], [41.133917, -74.16804599999998], [38.958538, -76.905637], [34.0204, -118.157291], [29.941681, -90.096355], [28.894479, -82.100538], [25.685672, -80.408466], [27.463535, -80.416005], [33.93096, -118.291913], [33.928277, -118.022025], [36.744965, -119.820724], [44.89843, -93.133624], [35.49903300000001, -119.739259], [29.988347, -90.075073], [34.187724, -79.803217], [42.423244, -122.851642], [35.365915, -82.407692], [33.173266, -117.348641], [27.277904, -82.564311], [32.984765, -87.792187], [39.94381, -77.618998], [35.209218, -80.799947], [39.356149, -77.591274], [45.135987, -93.241878], [34.774618, -118.290156], [32.844614, -117.168397], [43.07210300000001, -76.207368], [38.97152, -123.027573], [37.81053, -122.36464], [32.909053, -96.736763], [35.368501, -118.967617], [28.34478, -81.36385], [45.06646, -93.19735], [29.730756, -95.539107], [35.246767, -80.818331], [37.891793, -122.151758], [32.856468, -96.770458], [25.792143, -80.205409], [38.847697, -77.76775500000002], [34.13524, -117.976906], [30.52148900000001, -91.150931], [33.352127, -84.1246], [42.72549, -84.50981999999998], [34.415641, -118.471682], [42.34311, -88.05844599999998], [33.726386, -117.283851], [33.771961, -118.001393], [39.390524, -119.716826], [38.968859, -92.376319], [40.963972, -77.661441], [35.620905, -119.65693799999998], [32.776712, -117.135726], [37.358711, -121.906648], [40.842565, -73.931445], [45.247482, -93.025885], [46.25969600000001, -106.805408], [39.074846, -94.536262], [44.59102, -93.29791], [34.038493, -118.221607], [44.45167, -74.80145], [34.14772, -118.27921], [37.696076, -122.105044], [38.262462, -122.668129], [41.491882, -73.167507], [33.571067, -117.63958], [37.69495, -104.8111], [42.812388, -121.834803], [46.852408, -92.806395], [38.55698, -121.47311], [40.742559, -74.148303], [32.391143, -93.805153], [28.434040000000003, -81.4055], [43.04169, -89.37464], [38.19255, -85.71235], [33.836978, -117.309447], [35.064771, -80.910311], [35.005027, -117.816084], [40.07596, -75.36112], [33.913661, -118.104754], [33.626781, -117.693121], [45.024064, -123.827623], [25.884072, -80.352151], [39.982332, -75.884253], [28.365049, -81.309845], [41.06229, -81.51026999999998], [30.167043, -81.631714], [37.778229, -122.419967], [37.977336, -78.213856], [32.360577, -80.872589], [34.717601, -92.342866], [34.047822, -118.266564], [29.729103, -95.418637], [45.15825, -93.86823], [37.686588, -121.057467], [35.071918, -85.30795], [34.77939, -86.74922], [33.631412, -80.874134], [46.771519, -92.115918], [34.893207000000004, -81.932038], [33.385644, -111.890086], [46.360542, -95.656783], [25.622724, -80.37903399999998], [29.726111, -95.539023], [36.233457, -86.81929699999998], [42.24016, -87.90572], [34.217181, -117.289129], [31.7775, -106.42835], [30.349595, -97.530002], [35.712057, -78.842493], [38.061416, -112.607958], [35.844613, -78.614459], [45.529966, -122.646067], [29.19002, -82.053748], [33.668848, -112.122552], [45.048918, -93.323846], [40.86421, -74.41767], [34.139477, -118.471292], [39.4413, -77.40408000000002], [33.903661, -118.189148], [42.799955, -112.338198], [25.890186, -80.188322], [34.937579, -82.445913], [37.04472, -112.52637], [28.346756, -81.649488], [37.260335, -80.168062], [34.229826, -119.166667], [38.535285, -122.648231], [45.199914, -123.180262], [30.19713, -93.21857], [37.8001, -122.224662], [34.177281, -81.32261], [37.37229, -77.53119000000002], [34.087216, -117.660731], [33.902252000000004, -118.062762], [41.317194, -73.977347], [38.64045, -122.596467], [37.96482, -121.740552], [37.129587, -79.967225], [40.71621500000001, -75.845943], [33.878675, -118.168777], [27.971551, -82.611056], [25.700661, -80.380507], [32.24811, -110.85008], [29.70740300000001, -95.479954], [36.989215, -122.026884], [32.985890000000005, -97.015018], [35.34859, -97.56536], [38.892521, -77.053149], [39.86111, -104.9877], [43.085796, -71.47340200000002], [32.13012, -110.88258], [36.308645, -86.681549], [37.98712800000001, -79.180279], [25.833965, -80.21670300000002], [34.017825, -118.481625], [38.482772, -122.753808], [27.42246, -80.38853], [29.807876, -95.336304], [27.949038, -82.513937], [34.186163, -118.405254], [27.863614, -82.32668000000002], [28.187577, -82.375189], [29.963758, -90.102743], [34.05134, -118.00609], [32.914028, -80.02956800000003], [33.946698, -117.065328], [35.124599, -118.414273], [38.898986, -119.998865], [44.096192, -123.10864], [44.541256, -123.06198], [37.37506, -121.932999], [40.76818400000001, -73.981418], [37.600832, -122.06231], [38.541, -121.51071], [41.816056, -88.027299], [35.101083, -80.992254], [47.159303, -122.434198], [47.71259000000001, -122.32825], [36.231627, -86.803963], [38.944398, -94.378194], [40.64718, -74.8298], [34.24065, -111.32299], [27.997641, -82.34252], [40.014163, -78.639108], [37.236916, -121.803147], [39.984558, -76.73060699999998], [41.76169, -87.62589], [37.364009, -121.843453], [37.90301, -122.30072], [38.58875, -122.60709], [45.45354, -122.721743], [39.978893, -86.392825], [28.57456, -81.45201800000002], [35.409308, -119.0211], [41.720937, -87.74083], [38.229722, -122.116944], [33.440479, -111.922153], [42.41547, -88.12373000000002], [37.061749, -76.42116800000002], [36.083446, -86.951605], [34.084882, -118.30044], [42.06671, -88.13384], [35.029482, -85.371739], [28.189167, -82.398909], [43.586081, -70.391049], [35.791132, -80.861929], [36.753183, -119.717684], [34.052319, -118.490614], [32.753635, -117.12426], [27.9378, -82.31854], [35.040955, -111.685133], [34.724291, -92.27516], [27.127478000000004, -80.334864], [33.92564, -118.32161], [45.629814, -108.403033], [26.331267, -81.75999200000003], [38.855733, -77.382576], [34.065940000000005, -117.20111], [33.74137, -84.41435], [45.369915, -122.17283], [44.05344, -121.20436], [38.711928, -112.105977], [29.76961, -95.26541], [38.903778, -77.216645], [42.272074, -84.426889], [30.481504, -81.643828], [25.89805, -80.33344], [37.96487, -122.51405], [44.87864, -93.297347], [33.59098400000001, -117.513957], [43.021802, -123.300018], [37.214872, -76.591817], [35.31019000000001, -80.74566], [45.509038, -122.708295], [26.49404, -81.97769100000002], [35.041385, -85.129972], [34.06628, -117.328589], [44.147739, -93.25638], [37.905868, -122.515121], [40.930713, -73.838751], [41.84241, -87.65785], [37.22745, -93.34821], [45.63643, -108.904757], [45.09872, -93.18813], [33.871520000000004, -117.54449], [38.783524, -77.661123], [25.462909, -80.485377], [34.08309000000001, -84.26465999999998], [45.075203, -122.927547], [36.75363400000001, -119.68788], [35.15933, -80.94945], [39.993065, -76.672384], [36.113502, -86.805406], [30.00643, -90.01898], [45.515479, -122.699651], [42.698417, -123.383578], [28.490069, -81.428911], [33.518536, -79.950459], [38.83662, -77.44888], [35.090321, -90.076614], [40.83591, -73.873968], [42.94494, -78.7661], [37.37553, -120.688599], [33.968913, -118.255879], [32.945807, -117.210176], [35.807194, -90.675621], [33.2872, -111.84811], [41.68298, -88.35155999999998], [37.15944, -119.745762], [35.365004, -118.954205], [25.897189, -80.245662], [33.790104, -118.206485], [41.042486, -73.573926], [38.778503, -104.784248], [27.486826, -82.460801], [42.36522, -83.216557], [33.650811, -80.27713100000003], [39.903857, -104.98976100000002], [46.11223, -93.64811], [29.591042, -98.596419], [39.088136, -76.811298], [35.23393, -80.73872], [38.78315, -77.51236], [26.331129, -81.74988], [25.732685, -80.318312], [37.54799000000001, -77.44808], [32.177375, -111.003205], [28.173036, -81.765339], [26.34194500000001, -81.778999], [36.889976, -121.773222], [44.79909, -93.28955], [40.250742, -75.644325], [33.756901, -84.468935], [41.71448, -87.6468], [32.583746999999995, -117.096668], [39.1275, -94.56784], [36.75284, -119.7003], [38.878495, -121.121843], [34.378849, -118.98944], [33.873782, -118.34387], [39.089749, -121.883278], [34.164902000000005, -79.764753], [33.988134, -117.348184], [29.938815, -90.098002], [45.525215, -122.662158], [33.551532, -86.830104], [30.428478, -91.171347], [38.695138, -120.816268], [36.780573, -76.09917800000002], [26.35685, -80.11933], [37.783205, -121.22193], [27.839241, -82.752852], [40.864816, -74.422427], [30.320112, -86.1388], [33.33742, -117.15937], [45.874093, -114.053854], [35.19602800000001, -80.79007], [45.830518, -111.285014], [42.36872, -88.16546], [37.79427, -79.39764], [34.203819, -80.655344], [34.065565, -117.255804], [48.514655, -121.680519], [36.82391, -76.194829], [34.148544, -118.067182], [42.66129, -83.24061], [30.380497, -97.687184], [47.6527, -117.428477], [27.410277, -80.38864699999998], [40.68798, -111.93891], [37.182157, -93.287404], [27.879966, -80.500924], [37.139289, -79.26598], [33.901823, -118.381518], [25.880005, -80.242866], [34.154624, -79.36429100000002], [43.03212, -87.96091], [36.140582, -95.952164], [33.505672, -112.112699], [35.883514, -78.569576], [25.521658, -80.424656], [38.743392, -121.170706], [40.313135, -75.300917], [36.600069, -119.376728], [25.607756, -80.350021], [44.054925, -121.266432], [30.662897, -86.388367], [37.23915, -112.83237], [37.89123, -122.1504], [39.938789, -75.45885899999998], [38.63268, -85.13675], [34.201492, -119.099804], [33.617470000000004, -84.398308], [34.073312, -81.157382], [33.89591, -117.49734], [37.693621, -122.391814], [35.078868, -90.025532], [37.964821, -121.740553], [46.23506, -123.87196000000002], [35.722549, -78.58440300000002], [34.945903, -81.359939], [32.394007, -87.087923], [38.456955, -121.371797], [44.963115, -92.958504], [30.346904, -81.66475], [27.463755, -82.575441], [30.168231, -81.583174], [35.641273, -78.832666], [40.610758, -74.03209], [27.965451, -82.412449], [30.633731, -85.57262], [35.77952600000001, -78.70514], [30.368262, -81.6688], [43.60741, -116.27408], [45.65449, -108.832859], [35.102986, -85.30025699999999], [25.73335100000001, -80.307342], [37.980792, -122.566388], [33.95946, -118.28053], [38.668309, -76.876175], [28.43189000000001, -81.407313], [42.19724, -88.00916], [33.630128000000006, -81.04563399999998], [33.942807, -117.279556], [27.36871, -80.41131], [36.15906, -115.32258], [39.87103, -75.10172], [34.786912, -81.955445], [35.09619, -81.036812], [32.75243, -117.01039], [35.78162000000001, -78.70246], [37.115224, -121.015591], [32.709491, -96.660202], [44.991741, -93.400684], [35.82822700000001, -78.650665], [29.693140000000003, -95.52563], [38.959225, -78.189836], [47.16974, -122.22933], [34.037028, -118.377485], [32.901540000000004, -96.8979], [42.157083, -123.548501], [36.044844, -86.779707], [41.65202, -88.12488], [35.215913, -80.884774], [28.442505, -81.365963], [38.86309, -76.97281], [39.653401, -77.749166], [36.169958, -86.7977], [37.7862, -122.39069], [40.648051, -74.20167], [39.229022, -77.283073], [32.206407, -110.842571], [33.575, -112.06518], [35.862203, -78.695171], [32.163295, -110.94268], [37.942348, -122.3237], [25.903166, -80.32439000000002], [36.571944, -121.520833], [34.018403, -117.098497], [42.986445, -85.662071], [33.984118, -118.055435], [41.79673, -87.8075], [33.809431, -117.879111], [38.87343, -77.22048000000002], [33.630881, -117.739782], [34.758063, -81.036739], [34.775064, -118.43132], [41.58497, -87.68106], [27.447751, -82.573305], [34.066714000000005, -117.235028], [42.50168, -82.91806], [34.145604, -117.306185], [41.300145, -72.918687], [39.124299, -80.38602900000002], [35.20985, -80.75718], [34.148959000000005, -117.278669], [25.463358, -80.475211], [35.491073, -78.34784300000003], [38.481639, -121.390245], [38.9412, -94.816035], [34.038451, -118.274001], [41.511132, -120.495706], [41.690829, -74.077838], [36.55629, -121.911222], [33.995940000000004, -117.84036], [34.139844000000004, -80.914913], [27.44012, -82.45557600000002], [39.301151, -120.664972], [39.95389, -83.04198000000002], [37.764011, -122.217074], [25.92593, -80.25581], [27.97799, -82.38903], [38.89837, -76.94657], [42.62959, -123.38107], [42.96108, -123.325357], [45.54963, -94.20738], [33.853758, -117.924162], [43.12274, -76.14191], [43.092161, -71.474983], [33.42879600000001, -111.926271], [38.619498, -121.418296], [34.119845, -117.807198], [35.3829, -90.27951], [33.743347, -118.298917], [34.067838, -117.403173], [34.029034, -118.202791], [32.861913, -96.665626], [45.54046500000001, -122.449589], [40.27376, -104.13131], [38.914657, -76.93269599999998], [34.906095, -81.986813], [44.77189, -93.28836], [35.75588, -83.04836], [41.951636, -91.725468], [41.926894, -73.912605], [30.413925, -91.142266], [33.849982000000004, -117.835546], [35.89131300000001, -78.56076], [42.36361, -87.92987], [34.266024, -118.465672], [28.38071, -81.505061], [33.862445, -79.274909], [41.87543, -87.67274], [38.729568, -120.675448], [41.564551, -93.776668], [32.39529, -110.99568], [41.92287, -87.67877], [43.019972, -85.669219], [44.96479, -93.245], [34.066069, -117.48443799999998], [32.765571, -117.153533], [33.845969000000004, -118.092556], [45.610996, -123.142007], [37.89738, -122.08167], [29.54464, -95.14573], [38.621364, -121.524341], [38.67895, -90.65978], [39.207469, -94.635876], [33.967783000000004, -118.163582], [29.945433, -90.046346], [28.5054, -81.42251], [34.11972, -117.75781], [46.95164000000001, -92.45118], [40.31937, -75.56607], [38.98152, -111.9918], [35.22681, -80.834645], [34.82162, -82.28482], [33.86079, -118.03902], [31.80738, -106.26002], [37.700711, -121.800602], [33.74687, -84.38741999999998], [44.880236, -93.140823], [34.07042, -117.39843700000002], [44.16668, -93.94899], [37.659469, -77.467678], [33.887514, -117.55187], [43.894336, -93.908281], [34.806759, -92.363415], [32.89748, -96.81032], [29.864016, -95.487069], [38.376445, -121.454494], [36.807735, -119.970327], [37.701747, -121.893531], [37.9231, -122.51297], [34.16534, -118.46973], [39.203586, -94.631593], [35.17595, -80.79824], [29.970903000000003, -90.05116600000002], [40.696738, -73.98100000000002], [36.215297, -86.77539499999996], [38.93562100000001, -94.704755], [25.65616, -80.416814], [40.43757700000001, -111.897139], [47.526222, -111.385434], [28.380641, -81.507406], [45.941509, -95.591279], [42.40858, -88.06833], [32.41064, -93.75172], [36.47732, -86.9363], [42.921751, -88.87646], [25.899251, -80.190506], [39.63541, -104.90282], [27.269322, -82.501829], [30.419796, -91.150103], [37.833148, -122.482342], [41.002677, -76.45053399999998], [42.069273, -80.105787], [42.284361, -83.211605], [25.845674, -80.250507], [41.541482, -73.044475], [37.21729600000001, -93.26306], [41.99755, -88.09173], [32.927501, -96.391493], [30.577199, -81.646164], [34.321285, -77.765714], [38.241283, -122.269121], [39.80677, -75.58754], [38.296085, -122.034162], [29.968015, -95.434856], [42.912728, -85.637247], [34.483885, -120.230171], [35.89043, -78.561738], [35.225311, -80.83473000000002], [25.581096, -80.478394], [25.940932, -80.30678], [35.24162000000001, -80.983775], [38.874245, -77.041119], [33.940940999999995, -117.232693], [36.127139, -86.844534], [39.989569, -75.206177], [25.78208, -80.385611], [38.61909, -90.28509], [25.872132, -80.20875699999998], [39.05027000000001, -94.471231], [32.960907, -80.00927], [34.055001000000004, -117.299073], [39.14698, -76.644777], [40.726028, -111.961508], [44.964734, -93.244754], [41.793267, -87.94709], [42.541669, -84.821201], [40.648051, -74.20167], [39.324799, -77.361778], [29.356316, -82.221368], [35.043097, -85.11569], [42.553364, -82.865055], [43.5178, -84.676941], [25.851646, -80.192955], [33.939181, -117.221642], [39.364642, -121.607972], [40.696266, -73.979455], [30.232706, -97.903303], [40.70117, -74.13769], [33.85653, -117.9742], [38.849888, -77.78949300000002], [41.023402, -121.425162], [33.410725, -111.978176], [29.850505, -95.488979], [26.935, -82.01723], [34.031420000000004, -118.448407], [40.86082800000001, -76.584885], [28.451602, -81.477678], [41.996344, -87.875078], [38.23639, -122.1008], [34.248263, -118.425902], [39.977203, -75.399683], [33.01161, -96.97853], [34.372884, -83.264211], [33.436917, -112.128059], [29.68078, -95.36396], [26.267845, -81.742562], [36.430932, -119.708608], [26.03883, -80.35296], [44.625971, -123.242104], [40.5681, -112.03186], [47.613355, -122.346467], [25.82829, -80.20660500000002], [38.945379, -75.42659499999998], [34.37611, -80.05281], [25.575738, -80.338663], [33.31271, -111.89448], [37.24827, -121.83147]],\n",
       "                {&quot;blur&quot;: 15, &quot;maxZoom&quot;: 18, &quot;minOpacity&quot;: 0.5, &quot;radius&quot;: 25}\n",
       "            ).addTo(map_1ce08dc4680fe076ee9b206ca2cd3b74);\n",
       "        \n",
       "&lt;/script&gt;\" style=\"position:absolute;width:100%;height:100%;left:0;top:0;border:none !important;\" allowfullscreen webkitallowfullscreen mozallowfullscreen></iframe></div></div>"
      ],
      "text/plain": [
       "<folium.folium.Map at 0x228ba8fdfa0>"
      ]
     },
     "execution_count": 65,
     "metadata": {},
     "output_type": "execute_result"
    }
   ],
   "source": [
    "map = folium.Map()\n",
    "HeatMap(lat_lon).add_to(map)\n",
    "map"
   ]
  },
  {
   "cell_type": "markdown",
   "id": "2a09cadf",
   "metadata": {},
   "source": [
    "# When is accidents per unit of traffic the highest?\n",
    "\n",
    "Analysis of above data of hour,day,weekday,weekend,month,and year shows us the rush hour is major cause of accidents in US.\n",
    "Also fair,cool,rainy,snowing wheather is also big factor affecting the traffic on road because more people going out in these season .\n",
    "Holidays is also big cause of traffic on road.\n",
    "\n",
    "\n",
    "\n"
   ]
  },
  {
   "cell_type": "markdown",
   "id": "1a84c144",
   "metadata": {},
   "source": [
    "# ##Is the distribution of accident by hour the same on weekends as on weekdays\n",
    "\n",
    "    Hour-- Hour analysis shows only specific time period when traffic is higher on road might be people trying to get home\n",
    "    \n",
    "              after work.Maybe the densor traffic is reason of more accidents in those specific time period.\n",
    "\n",
    "\n",
    "      Weekdays--  Weekdays accidents are higher when workers,office employees etc \n",
    "\n",
    "                    going and coming back to home. Higher traffic canbe seen on road.Again densor traffic is higher chances\n",
    "                    \n",
    "                    of accidents\n"
   ]
  },
  {
   "cell_type": "markdown",
   "id": "39720d2a",
   "metadata": {},
   "source": [
    "# Are there more accident in warmer and colder areas?\n",
    "\n",
    "\n",
    "From Weather analysis we can see that more people going out when weather is mild or warm than it is cold \n",
    "so more accidents mightbe in warmer than colder areas."
   ]
  },
  {
   "cell_type": "code",
   "execution_count": null,
   "id": "4f019ede",
   "metadata": {},
   "outputs": [],
   "source": []
  }
 ],
 "metadata": {
  "kernelspec": {
   "display_name": "Python 3 (ipykernel)",
   "language": "python",
   "name": "python3"
  },
  "language_info": {
   "codemirror_mode": {
    "name": "ipython",
    "version": 3
   },
   "file_extension": ".py",
   "mimetype": "text/x-python",
   "name": "python",
   "nbconvert_exporter": "python",
   "pygments_lexer": "ipython3",
   "version": "3.9.12"
  }
 },
 "nbformat": 4,
 "nbformat_minor": 5
}
